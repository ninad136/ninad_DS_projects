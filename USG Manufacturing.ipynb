{
 "cells": [
  {
   "cell_type": "markdown",
   "id": "6973f4fc",
   "metadata": {},
   "source": [
    "### Ultra-Sonography Machine Manufacturing :"
   ]
  },
  {
   "cell_type": "markdown",
   "id": "7d5f61dc",
   "metadata": {},
   "source": [
    "A complex modern Ultra SonoGraphy manufacturing, assembly and testing process is normally under consistent surveillance via the monitoring of signals/variables collected from sensors and or process measurement points. Almost all of these signals are equally valuable in a specific monitoring, assembly & testing system. The measured signals contain a combination of useful information, irrelevant information as well as noise. It is often the case that useful information is buried in the latter two.\n",
    "\n",
    "A large number of vendors, suppliers are involved in the manufacturing and assembly of the devices. The objective is to save the manufacturing time, cost, need to reduce the number of testing points. After reduction of Testing points, the assembly line will be redesigned to save money without significant compromise in the quality."
   ]
  },
  {
   "cell_type": "code",
   "execution_count": 1,
   "id": "e0843c31",
   "metadata": {},
   "outputs": [],
   "source": [
    "# Importing the Libraries :\n",
    "\n",
    "import numpy as np\n",
    "import pandas as pd\n",
    "import matplotlib.pyplot as plt\n",
    "import seaborn as sns\n",
    "%matplotlib inline\n",
    "import warnings\n",
    "warnings.filterwarnings ('ignore')\n",
    "from sklearn.model_selection import train_test_split\n",
    "from sklearn.preprocessing import StandardScaler\n",
    "from sklearn.metrics import classification_report, confusion_matrix\n",
    "from sklearn.metrics import accuracy_score"
   ]
  },
  {
   "cell_type": "code",
   "execution_count": 2,
   "id": "e88adb53",
   "metadata": {},
   "outputs": [
    {
     "data": {
      "text/html": [
       "<div>\n",
       "<style scoped>\n",
       "    .dataframe tbody tr th:only-of-type {\n",
       "        vertical-align: middle;\n",
       "    }\n",
       "\n",
       "    .dataframe tbody tr th {\n",
       "        vertical-align: top;\n",
       "    }\n",
       "\n",
       "    .dataframe thead th {\n",
       "        text-align: right;\n",
       "    }\n",
       "</style>\n",
       "<table border=\"1\" class=\"dataframe\">\n",
       "  <thead>\n",
       "    <tr style=\"text-align: right;\">\n",
       "      <th></th>\n",
       "      <th>0</th>\n",
       "      <th>1</th>\n",
       "      <th>2</th>\n",
       "      <th>3</th>\n",
       "      <th>4</th>\n",
       "      <th>5</th>\n",
       "      <th>6</th>\n",
       "      <th>7</th>\n",
       "      <th>8</th>\n",
       "      <th>9</th>\n",
       "      <th>...</th>\n",
       "      <th>581</th>\n",
       "      <th>582</th>\n",
       "      <th>583</th>\n",
       "      <th>584</th>\n",
       "      <th>585</th>\n",
       "      <th>586</th>\n",
       "      <th>587</th>\n",
       "      <th>588</th>\n",
       "      <th>589</th>\n",
       "      <th>Pass/Fail</th>\n",
       "    </tr>\n",
       "  </thead>\n",
       "  <tbody>\n",
       "    <tr>\n",
       "      <th>0</th>\n",
       "      <td>2973.86</td>\n",
       "      <td>2359.01</td>\n",
       "      <td>2196.6555</td>\n",
       "      <td>1066.1908</td>\n",
       "      <td>1.2188</td>\n",
       "      <td>100.0</td>\n",
       "      <td>101.8900</td>\n",
       "      <td>0.1215</td>\n",
       "      <td>1.4544</td>\n",
       "      <td>-0.0052</td>\n",
       "      <td>...</td>\n",
       "      <td>NaN</td>\n",
       "      <td>0.5025</td>\n",
       "      <td>0.0128</td>\n",
       "      <td>0.0040</td>\n",
       "      <td>2.5391</td>\n",
       "      <td>0.0199</td>\n",
       "      <td>0.0117</td>\n",
       "      <td>0.0043</td>\n",
       "      <td>58.5665</td>\n",
       "      <td>1</td>\n",
       "    </tr>\n",
       "    <tr>\n",
       "      <th>1</th>\n",
       "      <td>3052.82</td>\n",
       "      <td>2525.33</td>\n",
       "      <td>2186.2667</td>\n",
       "      <td>1088.7359</td>\n",
       "      <td>1.2723</td>\n",
       "      <td>100.0</td>\n",
       "      <td>103.5633</td>\n",
       "      <td>0.1216</td>\n",
       "      <td>1.4891</td>\n",
       "      <td>-0.0007</td>\n",
       "      <td>...</td>\n",
       "      <td>131.2543</td>\n",
       "      <td>0.5003</td>\n",
       "      <td>0.0150</td>\n",
       "      <td>0.0043</td>\n",
       "      <td>2.9976</td>\n",
       "      <td>0.0228</td>\n",
       "      <td>0.0299</td>\n",
       "      <td>0.0105</td>\n",
       "      <td>131.2543</td>\n",
       "      <td>-1</td>\n",
       "    </tr>\n",
       "    <tr>\n",
       "      <th>2</th>\n",
       "      <td>2914.47</td>\n",
       "      <td>2492.14</td>\n",
       "      <td>2181.6111</td>\n",
       "      <td>1083.3937</td>\n",
       "      <td>1.2484</td>\n",
       "      <td>100.0</td>\n",
       "      <td>104.1478</td>\n",
       "      <td>0.1219</td>\n",
       "      <td>1.5568</td>\n",
       "      <td>-0.0214</td>\n",
       "      <td>...</td>\n",
       "      <td>NaN</td>\n",
       "      <td>0.4939</td>\n",
       "      <td>0.0136</td>\n",
       "      <td>0.0037</td>\n",
       "      <td>2.7633</td>\n",
       "      <td>0.0228</td>\n",
       "      <td>0.0299</td>\n",
       "      <td>0.0105</td>\n",
       "      <td>131.2543</td>\n",
       "      <td>-1</td>\n",
       "    </tr>\n",
       "    <tr>\n",
       "      <th>3</th>\n",
       "      <td>2959.86</td>\n",
       "      <td>2491.19</td>\n",
       "      <td>2208.0000</td>\n",
       "      <td>1835.9832</td>\n",
       "      <td>1.5714</td>\n",
       "      <td>100.0</td>\n",
       "      <td>100.2478</td>\n",
       "      <td>0.1239</td>\n",
       "      <td>1.4680</td>\n",
       "      <td>0.0033</td>\n",
       "      <td>...</td>\n",
       "      <td>128.2819</td>\n",
       "      <td>0.4993</td>\n",
       "      <td>0.0138</td>\n",
       "      <td>0.0038</td>\n",
       "      <td>2.7630</td>\n",
       "      <td>0.0140</td>\n",
       "      <td>0.0180</td>\n",
       "      <td>0.0054</td>\n",
       "      <td>128.2819</td>\n",
       "      <td>1</td>\n",
       "    </tr>\n",
       "    <tr>\n",
       "      <th>4</th>\n",
       "      <td>2964.77</td>\n",
       "      <td>2524.44</td>\n",
       "      <td>2181.5111</td>\n",
       "      <td>1177.0830</td>\n",
       "      <td>1.3012</td>\n",
       "      <td>100.0</td>\n",
       "      <td>100.9333</td>\n",
       "      <td>0.1216</td>\n",
       "      <td>1.4047</td>\n",
       "      <td>-0.0080</td>\n",
       "      <td>...</td>\n",
       "      <td>NaN</td>\n",
       "      <td>0.4984</td>\n",
       "      <td>0.0155</td>\n",
       "      <td>0.0040</td>\n",
       "      <td>3.1012</td>\n",
       "      <td>0.0140</td>\n",
       "      <td>0.0180</td>\n",
       "      <td>0.0054</td>\n",
       "      <td>128.2819</td>\n",
       "      <td>1</td>\n",
       "    </tr>\n",
       "  </tbody>\n",
       "</table>\n",
       "<p>5 rows × 577 columns</p>\n",
       "</div>"
      ],
      "text/plain": [
       "         0        1          2          3       4      5         6       7  \\\n",
       "0  2973.86  2359.01  2196.6555  1066.1908  1.2188  100.0  101.8900  0.1215   \n",
       "1  3052.82  2525.33  2186.2667  1088.7359  1.2723  100.0  103.5633  0.1216   \n",
       "2  2914.47  2492.14  2181.6111  1083.3937  1.2484  100.0  104.1478  0.1219   \n",
       "3  2959.86  2491.19  2208.0000  1835.9832  1.5714  100.0  100.2478  0.1239   \n",
       "4  2964.77  2524.44  2181.5111  1177.0830  1.3012  100.0  100.9333  0.1216   \n",
       "\n",
       "        8       9  ...       581     582     583     584     585     586  \\\n",
       "0  1.4544 -0.0052  ...       NaN  0.5025  0.0128  0.0040  2.5391  0.0199   \n",
       "1  1.4891 -0.0007  ...  131.2543  0.5003  0.0150  0.0043  2.9976  0.0228   \n",
       "2  1.5568 -0.0214  ...       NaN  0.4939  0.0136  0.0037  2.7633  0.0228   \n",
       "3  1.4680  0.0033  ...  128.2819  0.4993  0.0138  0.0038  2.7630  0.0140   \n",
       "4  1.4047 -0.0080  ...       NaN  0.4984  0.0155  0.0040  3.1012  0.0140   \n",
       "\n",
       "      587     588       589  Pass/Fail  \n",
       "0  0.0117  0.0043   58.5665          1  \n",
       "1  0.0299  0.0105  131.2543         -1  \n",
       "2  0.0299  0.0105  131.2543         -1  \n",
       "3  0.0180  0.0054  128.2819          1  \n",
       "4  0.0180  0.0054  128.2819          1  \n",
       "\n",
       "[5 rows x 577 columns]"
      ]
     },
     "execution_count": 2,
     "metadata": {},
     "output_type": "execute_result"
    }
   ],
   "source": [
    "# Reading the dataset :\n",
    "\n",
    "data = pd.read_csv ('ultrasound_1.csv')\n",
    "data.head()"
   ]
  },
  {
   "cell_type": "code",
   "execution_count": 3,
   "id": "ba0dc36a",
   "metadata": {},
   "outputs": [
    {
     "name": "stdout",
     "output_type": "stream",
     "text": [
      "<class 'pandas.core.frame.DataFrame'>\n",
      "RangeIndex: 1577 entries, 0 to 1576\n",
      "Columns: 577 entries, 0 to Pass/Fail\n",
      "dtypes: float64(576), int64(1)\n",
      "memory usage: 6.9 MB\n"
     ]
    }
   ],
   "source": [
    "data.info()"
   ]
  },
  {
   "cell_type": "code",
   "execution_count": 4,
   "id": "ee9557e3",
   "metadata": {},
   "outputs": [
    {
     "data": {
      "text/plain": [
       "42093"
      ]
     },
     "execution_count": 4,
     "metadata": {},
     "output_type": "execute_result"
    }
   ],
   "source": [
    "# Finding Missing Values :\n",
    "\n",
    "data.isnull().sum().sum()"
   ]
  },
  {
   "cell_type": "code",
   "execution_count": 5,
   "id": "61785d00",
   "metadata": {},
   "outputs": [
    {
     "data": {
      "text/plain": [
       "0"
      ]
     },
     "execution_count": 5,
     "metadata": {},
     "output_type": "execute_result"
    }
   ],
   "source": [
    "data = data.replace (np.NaN, 0)\n",
    "data.isnull().sum().sum()"
   ]
  },
  {
   "cell_type": "code",
   "execution_count": 6,
   "id": "1d58a370",
   "metadata": {},
   "outputs": [
    {
     "data": {
      "text/plain": [
       "array([ 1, -1], dtype=int64)"
      ]
     },
     "execution_count": 6,
     "metadata": {},
     "output_type": "execute_result"
    }
   ],
   "source": [
    "unique_vals = data ['Pass/Fail'].unique()\n",
    "unique_vals"
   ]
  },
  {
   "cell_type": "code",
   "execution_count": 7,
   "id": "89a95c78",
   "metadata": {},
   "outputs": [],
   "source": [
    "data ['Pass/Fail'] = data ['Pass/Fail'].map ({-1 : 0, 1 : 1})"
   ]
  },
  {
   "cell_type": "code",
   "execution_count": 8,
   "id": "f7d5ef46",
   "metadata": {},
   "outputs": [
    {
     "data": {
      "text/plain": [
       "0    1472\n",
       "1     105\n",
       "Name: Pass/Fail, dtype: int64"
      ]
     },
     "execution_count": 8,
     "metadata": {},
     "output_type": "execute_result"
    }
   ],
   "source": [
    "data ['Pass/Fail'].value_counts()"
   ]
  },
  {
   "cell_type": "code",
   "execution_count": 9,
   "id": "c0af7f89",
   "metadata": {},
   "outputs": [
    {
     "data": {
      "text/html": [
       "<div>\n",
       "<style scoped>\n",
       "    .dataframe tbody tr th:only-of-type {\n",
       "        vertical-align: middle;\n",
       "    }\n",
       "\n",
       "    .dataframe tbody tr th {\n",
       "        vertical-align: top;\n",
       "    }\n",
       "\n",
       "    .dataframe thead th {\n",
       "        text-align: right;\n",
       "    }\n",
       "</style>\n",
       "<table border=\"1\" class=\"dataframe\">\n",
       "  <thead>\n",
       "    <tr style=\"text-align: right;\">\n",
       "      <th></th>\n",
       "      <th>0</th>\n",
       "      <th>1</th>\n",
       "      <th>2</th>\n",
       "      <th>3</th>\n",
       "      <th>4</th>\n",
       "      <th>5</th>\n",
       "      <th>6</th>\n",
       "      <th>7</th>\n",
       "      <th>8</th>\n",
       "      <th>9</th>\n",
       "      <th>...</th>\n",
       "      <th>581</th>\n",
       "      <th>582</th>\n",
       "      <th>583</th>\n",
       "      <th>584</th>\n",
       "      <th>585</th>\n",
       "      <th>586</th>\n",
       "      <th>587</th>\n",
       "      <th>588</th>\n",
       "      <th>589</th>\n",
       "      <th>Pass/Fail</th>\n",
       "    </tr>\n",
       "  </thead>\n",
       "  <tbody>\n",
       "    <tr>\n",
       "      <th>0</th>\n",
       "      <td>2973.86</td>\n",
       "      <td>2359.01</td>\n",
       "      <td>2196.6555</td>\n",
       "      <td>1066.1908</td>\n",
       "      <td>1.2188</td>\n",
       "      <td>100.0</td>\n",
       "      <td>101.8900</td>\n",
       "      <td>0.1215</td>\n",
       "      <td>1.4544</td>\n",
       "      <td>-0.0052</td>\n",
       "      <td>...</td>\n",
       "      <td>0.0000</td>\n",
       "      <td>0.5025</td>\n",
       "      <td>0.0128</td>\n",
       "      <td>0.0040</td>\n",
       "      <td>2.5391</td>\n",
       "      <td>0.0199</td>\n",
       "      <td>0.0117</td>\n",
       "      <td>0.0043</td>\n",
       "      <td>58.5665</td>\n",
       "      <td>1</td>\n",
       "    </tr>\n",
       "    <tr>\n",
       "      <th>1</th>\n",
       "      <td>3052.82</td>\n",
       "      <td>2525.33</td>\n",
       "      <td>2186.2667</td>\n",
       "      <td>1088.7359</td>\n",
       "      <td>1.2723</td>\n",
       "      <td>100.0</td>\n",
       "      <td>103.5633</td>\n",
       "      <td>0.1216</td>\n",
       "      <td>1.4891</td>\n",
       "      <td>-0.0007</td>\n",
       "      <td>...</td>\n",
       "      <td>131.2543</td>\n",
       "      <td>0.5003</td>\n",
       "      <td>0.0150</td>\n",
       "      <td>0.0043</td>\n",
       "      <td>2.9976</td>\n",
       "      <td>0.0228</td>\n",
       "      <td>0.0299</td>\n",
       "      <td>0.0105</td>\n",
       "      <td>131.2543</td>\n",
       "      <td>0</td>\n",
       "    </tr>\n",
       "    <tr>\n",
       "      <th>2</th>\n",
       "      <td>2914.47</td>\n",
       "      <td>2492.14</td>\n",
       "      <td>2181.6111</td>\n",
       "      <td>1083.3937</td>\n",
       "      <td>1.2484</td>\n",
       "      <td>100.0</td>\n",
       "      <td>104.1478</td>\n",
       "      <td>0.1219</td>\n",
       "      <td>1.5568</td>\n",
       "      <td>-0.0214</td>\n",
       "      <td>...</td>\n",
       "      <td>0.0000</td>\n",
       "      <td>0.4939</td>\n",
       "      <td>0.0136</td>\n",
       "      <td>0.0037</td>\n",
       "      <td>2.7633</td>\n",
       "      <td>0.0228</td>\n",
       "      <td>0.0299</td>\n",
       "      <td>0.0105</td>\n",
       "      <td>131.2543</td>\n",
       "      <td>0</td>\n",
       "    </tr>\n",
       "    <tr>\n",
       "      <th>3</th>\n",
       "      <td>2959.86</td>\n",
       "      <td>2491.19</td>\n",
       "      <td>2208.0000</td>\n",
       "      <td>1835.9832</td>\n",
       "      <td>1.5714</td>\n",
       "      <td>100.0</td>\n",
       "      <td>100.2478</td>\n",
       "      <td>0.1239</td>\n",
       "      <td>1.4680</td>\n",
       "      <td>0.0033</td>\n",
       "      <td>...</td>\n",
       "      <td>128.2819</td>\n",
       "      <td>0.4993</td>\n",
       "      <td>0.0138</td>\n",
       "      <td>0.0038</td>\n",
       "      <td>2.7630</td>\n",
       "      <td>0.0140</td>\n",
       "      <td>0.0180</td>\n",
       "      <td>0.0054</td>\n",
       "      <td>128.2819</td>\n",
       "      <td>1</td>\n",
       "    </tr>\n",
       "    <tr>\n",
       "      <th>4</th>\n",
       "      <td>2964.77</td>\n",
       "      <td>2524.44</td>\n",
       "      <td>2181.5111</td>\n",
       "      <td>1177.0830</td>\n",
       "      <td>1.3012</td>\n",
       "      <td>100.0</td>\n",
       "      <td>100.9333</td>\n",
       "      <td>0.1216</td>\n",
       "      <td>1.4047</td>\n",
       "      <td>-0.0080</td>\n",
       "      <td>...</td>\n",
       "      <td>0.0000</td>\n",
       "      <td>0.4984</td>\n",
       "      <td>0.0155</td>\n",
       "      <td>0.0040</td>\n",
       "      <td>3.1012</td>\n",
       "      <td>0.0140</td>\n",
       "      <td>0.0180</td>\n",
       "      <td>0.0054</td>\n",
       "      <td>128.2819</td>\n",
       "      <td>1</td>\n",
       "    </tr>\n",
       "  </tbody>\n",
       "</table>\n",
       "<p>5 rows × 577 columns</p>\n",
       "</div>"
      ],
      "text/plain": [
       "         0        1          2          3       4      5         6       7  \\\n",
       "0  2973.86  2359.01  2196.6555  1066.1908  1.2188  100.0  101.8900  0.1215   \n",
       "1  3052.82  2525.33  2186.2667  1088.7359  1.2723  100.0  103.5633  0.1216   \n",
       "2  2914.47  2492.14  2181.6111  1083.3937  1.2484  100.0  104.1478  0.1219   \n",
       "3  2959.86  2491.19  2208.0000  1835.9832  1.5714  100.0  100.2478  0.1239   \n",
       "4  2964.77  2524.44  2181.5111  1177.0830  1.3012  100.0  100.9333  0.1216   \n",
       "\n",
       "        8       9  ...       581     582     583     584     585     586  \\\n",
       "0  1.4544 -0.0052  ...    0.0000  0.5025  0.0128  0.0040  2.5391  0.0199   \n",
       "1  1.4891 -0.0007  ...  131.2543  0.5003  0.0150  0.0043  2.9976  0.0228   \n",
       "2  1.5568 -0.0214  ...    0.0000  0.4939  0.0136  0.0037  2.7633  0.0228   \n",
       "3  1.4680  0.0033  ...  128.2819  0.4993  0.0138  0.0038  2.7630  0.0140   \n",
       "4  1.4047 -0.0080  ...    0.0000  0.4984  0.0155  0.0040  3.1012  0.0140   \n",
       "\n",
       "      587     588       589  Pass/Fail  \n",
       "0  0.0117  0.0043   58.5665          1  \n",
       "1  0.0299  0.0105  131.2543          0  \n",
       "2  0.0299  0.0105  131.2543          0  \n",
       "3  0.0180  0.0054  128.2819          1  \n",
       "4  0.0180  0.0054  128.2819          1  \n",
       "\n",
       "[5 rows x 577 columns]"
      ]
     },
     "execution_count": 9,
     "metadata": {},
     "output_type": "execute_result"
    }
   ],
   "source": [
    "data100 = data.copy()\n",
    "data100.head()"
   ]
  },
  {
   "cell_type": "code",
   "execution_count": 10,
   "id": "c84c7b9a",
   "metadata": {},
   "outputs": [],
   "source": [
    "X = data100.drop (['Pass/Fail'], axis = 1)\n",
    "y = data100 ['Pass/Fail']"
   ]
  },
  {
   "cell_type": "code",
   "execution_count": 11,
   "id": "76331750",
   "metadata": {},
   "outputs": [],
   "source": [
    "X_train, X_test, y_train, y_test = train_test_split (X, y, test_size = 0.3, stratify = y, random_state = 100)"
   ]
  },
  {
   "cell_type": "code",
   "execution_count": 12,
   "id": "2f02c0aa",
   "metadata": {},
   "outputs": [],
   "source": [
    "from imblearn.over_sampling import SMOTE"
   ]
  },
  {
   "cell_type": "code",
   "execution_count": 13,
   "id": "a92d124a",
   "metadata": {},
   "outputs": [
    {
     "name": "stdout",
     "output_type": "stream",
     "text": [
      "Before balancing X_train (1103, 576)\n",
      "\n",
      "Before balancing y_train (1103,)\n",
      "\n",
      "Number of classes before balancing : \n",
      " 0    1030\n",
      "1      73\n",
      "Name: Pass/Fail, dtype: int64\n"
     ]
    }
   ],
   "source": [
    "sm = SMOTE()\n",
    "X_train_smote, y_train_smote = sm.fit_resample (X_train, y_train)\n",
    "\n",
    "print ('Before balancing X_train', X_train.shape)\n",
    "print()\n",
    "print ('Before balancing y_train', y_train.shape)\n",
    "print()\n",
    "print ('Number of classes before balancing : \\n', y_train.value_counts())"
   ]
  },
  {
   "cell_type": "code",
   "execution_count": 14,
   "id": "5ca1f019",
   "metadata": {},
   "outputs": [
    {
     "name": "stdout",
     "output_type": "stream",
     "text": [
      "After balancing X_train (2060, 576)\n",
      "\n",
      "After balancing y_train (2060,)\n",
      "\n",
      "Number of classes after balancing : \n",
      " 0    1030\n",
      "1    1030\n",
      "Name: Pass/Fail, dtype: int64\n"
     ]
    }
   ],
   "source": [
    "print ('After balancing X_train', X_train_smote.shape)\n",
    "print()\n",
    "print ('After balancing y_train', y_train_smote.shape)\n",
    "print()\n",
    "print ('Number of classes after balancing : \\n', y_train_smote.value_counts())"
   ]
  },
  {
   "cell_type": "code",
   "execution_count": 15,
   "id": "6c8c212c",
   "metadata": {},
   "outputs": [
    {
     "name": "stdout",
     "output_type": "stream",
     "text": [
      "(146, 576)\n",
      "(146,)\n",
      "After random undersampling method : \n"
     ]
    },
    {
     "data": {
      "text/plain": [
       "0    73\n",
       "1    73\n",
       "Name: Pass/Fail, dtype: int64"
      ]
     },
     "execution_count": 15,
     "metadata": {},
     "output_type": "execute_result"
    }
   ],
   "source": [
    "from imblearn.under_sampling import RandomUnderSampler\n",
    "under = RandomUnderSampler()\n",
    "X_train_under, y_train_under = under.fit_resample (X_train, y_train)\n",
    "print (X_train_under.shape)\n",
    "print (y_train_under.shape)\n",
    "print ('After random undersampling method : ')\n",
    "y_train_under.value_counts()"
   ]
  },
  {
   "cell_type": "code",
   "execution_count": 16,
   "id": "30c69f74",
   "metadata": {},
   "outputs": [
    {
     "name": "stdout",
     "output_type": "stream",
     "text": [
      "(2060, 576)\n",
      "(2060,)\n",
      "After random oversampling method : \n"
     ]
    },
    {
     "data": {
      "text/plain": [
       "0    1030\n",
       "1    1030\n",
       "Name: Pass/Fail, dtype: int64"
      ]
     },
     "execution_count": 16,
     "metadata": {},
     "output_type": "execute_result"
    }
   ],
   "source": [
    "from imblearn.over_sampling import RandomOverSampler\n",
    "over = RandomOverSampler()\n",
    "X_train_over, y_train_over = over.fit_resample (X_train, y_train)\n",
    "print (X_train_over.shape)\n",
    "print (y_train_over.shape)\n",
    "print ('After random oversampling method : ')\n",
    "y_train_over.value_counts()"
   ]
  },
  {
   "cell_type": "code",
   "execution_count": 17,
   "id": "1a594c38",
   "metadata": {},
   "outputs": [
    {
     "data": {
      "text/plain": [
       "0            1489\n",
       "1            1497\n",
       "2             503\n",
       "3             512\n",
       "4             503\n",
       "             ... \n",
       "586           319\n",
       "587           256\n",
       "588           119\n",
       "589           602\n",
       "Pass/Fail       2\n",
       "Length: 577, dtype: int64"
      ]
     },
     "execution_count": 17,
     "metadata": {},
     "output_type": "execute_result"
    }
   ],
   "source": [
    "nunique = data.apply (pd.Series.nunique)\n",
    "nunique"
   ]
  },
  {
   "cell_type": "code",
   "execution_count": 18,
   "id": "5339414a",
   "metadata": {},
   "outputs": [
    {
     "data": {
      "text/plain": [
       "(102,)"
      ]
     },
     "execution_count": 18,
     "metadata": {},
     "output_type": "execute_result"
    }
   ],
   "source": [
    "const_cols = nunique [nunique == 1].index\n",
    "const_cols.shape"
   ]
  },
  {
   "cell_type": "code",
   "execution_count": 19,
   "id": "f920f012",
   "metadata": {},
   "outputs": [
    {
     "data": {
      "text/plain": [
       "(1577, 577)"
      ]
     },
     "execution_count": 19,
     "metadata": {},
     "output_type": "execute_result"
    }
   ],
   "source": [
    "data.shape"
   ]
  },
  {
   "cell_type": "code",
   "execution_count": 20,
   "id": "15170d36",
   "metadata": {},
   "outputs": [
    {
     "data": {
      "text/plain": [
       "(1577, 475)"
      ]
     },
     "execution_count": 20,
     "metadata": {},
     "output_type": "execute_result"
    }
   ],
   "source": [
    "data1 = data.drop (const_cols, axis = 1)\n",
    "data1.shape"
   ]
  },
  {
   "cell_type": "code",
   "execution_count": 21,
   "id": "8fa882bc",
   "metadata": {},
   "outputs": [],
   "source": [
    "# Always check accuracy after dropping columns."
   ]
  },
  {
   "cell_type": "code",
   "execution_count": 22,
   "id": "092e7db9",
   "metadata": {},
   "outputs": [
    {
     "data": {
      "text/html": [
       "<div>\n",
       "<style scoped>\n",
       "    .dataframe tbody tr th:only-of-type {\n",
       "        vertical-align: middle;\n",
       "    }\n",
       "\n",
       "    .dataframe tbody tr th {\n",
       "        vertical-align: top;\n",
       "    }\n",
       "\n",
       "    .dataframe thead th {\n",
       "        text-align: right;\n",
       "    }\n",
       "</style>\n",
       "<table border=\"1\" class=\"dataframe\">\n",
       "  <thead>\n",
       "    <tr style=\"text-align: right;\">\n",
       "      <th></th>\n",
       "      <th>0</th>\n",
       "      <th>1</th>\n",
       "      <th>2</th>\n",
       "      <th>3</th>\n",
       "      <th>4</th>\n",
       "      <th>5</th>\n",
       "      <th>6</th>\n",
       "      <th>7</th>\n",
       "      <th>8</th>\n",
       "      <th>9</th>\n",
       "      <th>...</th>\n",
       "      <th>581</th>\n",
       "      <th>582</th>\n",
       "      <th>583</th>\n",
       "      <th>584</th>\n",
       "      <th>585</th>\n",
       "      <th>586</th>\n",
       "      <th>587</th>\n",
       "      <th>588</th>\n",
       "      <th>589</th>\n",
       "      <th>Pass/Fail</th>\n",
       "    </tr>\n",
       "  </thead>\n",
       "  <tbody>\n",
       "    <tr>\n",
       "      <th>0</th>\n",
       "      <td>1.000000</td>\n",
       "      <td>-0.051731</td>\n",
       "      <td>0.009742</td>\n",
       "      <td>0.005773</td>\n",
       "      <td>-0.001583</td>\n",
       "      <td>0.011104</td>\n",
       "      <td>0.008468</td>\n",
       "      <td>0.011955</td>\n",
       "      <td>-0.056840</td>\n",
       "      <td>0.012133</td>\n",
       "      <td>...</td>\n",
       "      <td>-0.029241</td>\n",
       "      <td>0.007309</td>\n",
       "      <td>0.026022</td>\n",
       "      <td>0.024993</td>\n",
       "      <td>0.025688</td>\n",
       "      <td>0.045321</td>\n",
       "      <td>-0.003207</td>\n",
       "      <td>-0.003095</td>\n",
       "      <td>0.018692</td>\n",
       "      <td>0.008540</td>\n",
       "    </tr>\n",
       "    <tr>\n",
       "      <th>1</th>\n",
       "      <td>-0.051731</td>\n",
       "      <td>1.000000</td>\n",
       "      <td>-0.030590</td>\n",
       "      <td>0.007414</td>\n",
       "      <td>0.002214</td>\n",
       "      <td>-0.030153</td>\n",
       "      <td>-0.032144</td>\n",
       "      <td>-0.024789</td>\n",
       "      <td>0.027273</td>\n",
       "      <td>0.002883</td>\n",
       "      <td>...</td>\n",
       "      <td>0.042705</td>\n",
       "      <td>-0.017285</td>\n",
       "      <td>0.003667</td>\n",
       "      <td>0.003975</td>\n",
       "      <td>0.003654</td>\n",
       "      <td>-0.009365</td>\n",
       "      <td>0.039222</td>\n",
       "      <td>0.040154</td>\n",
       "      <td>0.044994</td>\n",
       "      <td>-0.021934</td>\n",
       "    </tr>\n",
       "    <tr>\n",
       "      <th>2</th>\n",
       "      <td>0.009742</td>\n",
       "      <td>-0.030590</td>\n",
       "      <td>1.000000</td>\n",
       "      <td>0.323217</td>\n",
       "      <td>0.020441</td>\n",
       "      <td>0.990083</td>\n",
       "      <td>0.818672</td>\n",
       "      <td>0.746932</td>\n",
       "      <td>0.002709</td>\n",
       "      <td>-0.047061</td>\n",
       "      <td>...</td>\n",
       "      <td>0.038127</td>\n",
       "      <td>-0.010349</td>\n",
       "      <td>-0.012305</td>\n",
       "      <td>-0.010042</td>\n",
       "      <td>-0.011645</td>\n",
       "      <td>0.015333</td>\n",
       "      <td>-0.007861</td>\n",
       "      <td>-0.010088</td>\n",
       "      <td>-0.030468</td>\n",
       "      <td>0.025613</td>\n",
       "    </tr>\n",
       "    <tr>\n",
       "      <th>3</th>\n",
       "      <td>0.005773</td>\n",
       "      <td>0.007414</td>\n",
       "      <td>0.323217</td>\n",
       "      <td>1.000000</td>\n",
       "      <td>-0.053751</td>\n",
       "      <td>0.285600</td>\n",
       "      <td>-0.119392</td>\n",
       "      <td>0.279457</td>\n",
       "      <td>-0.109926</td>\n",
       "      <td>0.055518</td>\n",
       "      <td>...</td>\n",
       "      <td>0.000344</td>\n",
       "      <td>0.008890</td>\n",
       "      <td>0.032600</td>\n",
       "      <td>0.032053</td>\n",
       "      <td>0.033658</td>\n",
       "      <td>0.035564</td>\n",
       "      <td>-0.040474</td>\n",
       "      <td>-0.035538</td>\n",
       "      <td>-0.083088</td>\n",
       "      <td>-0.017971</td>\n",
       "    </tr>\n",
       "    <tr>\n",
       "      <th>4</th>\n",
       "      <td>-0.001583</td>\n",
       "      <td>0.002214</td>\n",
       "      <td>0.020441</td>\n",
       "      <td>-0.053751</td>\n",
       "      <td>1.000000</td>\n",
       "      <td>0.007012</td>\n",
       "      <td>-0.034789</td>\n",
       "      <td>-0.475745</td>\n",
       "      <td>-0.020116</td>\n",
       "      <td>0.054158</td>\n",
       "      <td>...</td>\n",
       "      <td>0.107129</td>\n",
       "      <td>0.012666</td>\n",
       "      <td>-0.000662</td>\n",
       "      <td>-0.001077</td>\n",
       "      <td>-0.001087</td>\n",
       "      <td>-0.043489</td>\n",
       "      <td>-0.030680</td>\n",
       "      <td>-0.025844</td>\n",
       "      <td>0.050573</td>\n",
       "      <td>-0.013551</td>\n",
       "    </tr>\n",
       "    <tr>\n",
       "      <th>...</th>\n",
       "      <td>...</td>\n",
       "      <td>...</td>\n",
       "      <td>...</td>\n",
       "      <td>...</td>\n",
       "      <td>...</td>\n",
       "      <td>...</td>\n",
       "      <td>...</td>\n",
       "      <td>...</td>\n",
       "      <td>...</td>\n",
       "      <td>...</td>\n",
       "      <td>...</td>\n",
       "      <td>...</td>\n",
       "      <td>...</td>\n",
       "      <td>...</td>\n",
       "      <td>...</td>\n",
       "      <td>...</td>\n",
       "      <td>...</td>\n",
       "      <td>...</td>\n",
       "      <td>...</td>\n",
       "      <td>...</td>\n",
       "      <td>...</td>\n",
       "    </tr>\n",
       "    <tr>\n",
       "      <th>586</th>\n",
       "      <td>0.045321</td>\n",
       "      <td>-0.009365</td>\n",
       "      <td>0.015333</td>\n",
       "      <td>0.035564</td>\n",
       "      <td>-0.043489</td>\n",
       "      <td>0.018959</td>\n",
       "      <td>-0.004821</td>\n",
       "      <td>0.049942</td>\n",
       "      <td>0.018117</td>\n",
       "      <td>0.033313</td>\n",
       "      <td>...</td>\n",
       "      <td>-0.209531</td>\n",
       "      <td>-0.007627</td>\n",
       "      <td>0.002775</td>\n",
       "      <td>0.002197</td>\n",
       "      <td>0.003514</td>\n",
       "      <td>1.000000</td>\n",
       "      <td>0.166299</td>\n",
       "      <td>0.161676</td>\n",
       "      <td>-0.487661</td>\n",
       "      <td>-0.010005</td>\n",
       "    </tr>\n",
       "    <tr>\n",
       "      <th>587</th>\n",
       "      <td>-0.003207</td>\n",
       "      <td>0.039222</td>\n",
       "      <td>-0.007861</td>\n",
       "      <td>-0.040474</td>\n",
       "      <td>-0.030680</td>\n",
       "      <td>-0.003294</td>\n",
       "      <td>0.017619</td>\n",
       "      <td>-0.007111</td>\n",
       "      <td>0.028371</td>\n",
       "      <td>0.054371</td>\n",
       "      <td>...</td>\n",
       "      <td>0.225530</td>\n",
       "      <td>0.018858</td>\n",
       "      <td>-0.001698</td>\n",
       "      <td>-0.000805</td>\n",
       "      <td>-0.002008</td>\n",
       "      <td>0.166299</td>\n",
       "      <td>1.000000</td>\n",
       "      <td>0.973904</td>\n",
       "      <td>0.391219</td>\n",
       "      <td>0.018311</td>\n",
       "    </tr>\n",
       "    <tr>\n",
       "      <th>588</th>\n",
       "      <td>-0.003095</td>\n",
       "      <td>0.040154</td>\n",
       "      <td>-0.010088</td>\n",
       "      <td>-0.035538</td>\n",
       "      <td>-0.025844</td>\n",
       "      <td>-0.005148</td>\n",
       "      <td>0.014776</td>\n",
       "      <td>-0.014796</td>\n",
       "      <td>0.033821</td>\n",
       "      <td>0.056405</td>\n",
       "      <td>...</td>\n",
       "      <td>0.215194</td>\n",
       "      <td>0.019306</td>\n",
       "      <td>0.002530</td>\n",
       "      <td>0.003497</td>\n",
       "      <td>0.002206</td>\n",
       "      <td>0.161676</td>\n",
       "      <td>0.973904</td>\n",
       "      <td>1.000000</td>\n",
       "      <td>0.390503</td>\n",
       "      <td>0.015415</td>\n",
       "    </tr>\n",
       "    <tr>\n",
       "      <th>589</th>\n",
       "      <td>0.018692</td>\n",
       "      <td>0.044994</td>\n",
       "      <td>-0.030468</td>\n",
       "      <td>-0.083088</td>\n",
       "      <td>0.050573</td>\n",
       "      <td>-0.025863</td>\n",
       "      <td>0.001934</td>\n",
       "      <td>-0.065981</td>\n",
       "      <td>-0.016404</td>\n",
       "      <td>0.003832</td>\n",
       "      <td>...</td>\n",
       "      <td>0.431895</td>\n",
       "      <td>0.028049</td>\n",
       "      <td>0.003220</td>\n",
       "      <td>0.002833</td>\n",
       "      <td>0.002130</td>\n",
       "      <td>-0.487661</td>\n",
       "      <td>0.391219</td>\n",
       "      <td>0.390503</td>\n",
       "      <td>1.000000</td>\n",
       "      <td>-0.002682</td>\n",
       "    </tr>\n",
       "    <tr>\n",
       "      <th>Pass/Fail</th>\n",
       "      <td>0.008540</td>\n",
       "      <td>-0.021934</td>\n",
       "      <td>0.025613</td>\n",
       "      <td>-0.017971</td>\n",
       "      <td>-0.013551</td>\n",
       "      <td>0.025277</td>\n",
       "      <td>0.031041</td>\n",
       "      <td>0.021940</td>\n",
       "      <td>0.028314</td>\n",
       "      <td>-0.030853</td>\n",
       "      <td>...</td>\n",
       "      <td>-0.001420</td>\n",
       "      <td>0.019776</td>\n",
       "      <td>0.007064</td>\n",
       "      <td>0.008226</td>\n",
       "      <td>0.005995</td>\n",
       "      <td>-0.010005</td>\n",
       "      <td>0.018311</td>\n",
       "      <td>0.015415</td>\n",
       "      <td>-0.002682</td>\n",
       "      <td>1.000000</td>\n",
       "    </tr>\n",
       "  </tbody>\n",
       "</table>\n",
       "<p>475 rows × 475 columns</p>\n",
       "</div>"
      ],
      "text/plain": [
       "                  0         1         2         3         4         5  \\\n",
       "0          1.000000 -0.051731  0.009742  0.005773 -0.001583  0.011104   \n",
       "1         -0.051731  1.000000 -0.030590  0.007414  0.002214 -0.030153   \n",
       "2          0.009742 -0.030590  1.000000  0.323217  0.020441  0.990083   \n",
       "3          0.005773  0.007414  0.323217  1.000000 -0.053751  0.285600   \n",
       "4         -0.001583  0.002214  0.020441 -0.053751  1.000000  0.007012   \n",
       "...             ...       ...       ...       ...       ...       ...   \n",
       "586        0.045321 -0.009365  0.015333  0.035564 -0.043489  0.018959   \n",
       "587       -0.003207  0.039222 -0.007861 -0.040474 -0.030680 -0.003294   \n",
       "588       -0.003095  0.040154 -0.010088 -0.035538 -0.025844 -0.005148   \n",
       "589        0.018692  0.044994 -0.030468 -0.083088  0.050573 -0.025863   \n",
       "Pass/Fail  0.008540 -0.021934  0.025613 -0.017971 -0.013551  0.025277   \n",
       "\n",
       "                  6         7         8         9  ...       581       582  \\\n",
       "0          0.008468  0.011955 -0.056840  0.012133  ... -0.029241  0.007309   \n",
       "1         -0.032144 -0.024789  0.027273  0.002883  ...  0.042705 -0.017285   \n",
       "2          0.818672  0.746932  0.002709 -0.047061  ...  0.038127 -0.010349   \n",
       "3         -0.119392  0.279457 -0.109926  0.055518  ...  0.000344  0.008890   \n",
       "4         -0.034789 -0.475745 -0.020116  0.054158  ...  0.107129  0.012666   \n",
       "...             ...       ...       ...       ...  ...       ...       ...   \n",
       "586       -0.004821  0.049942  0.018117  0.033313  ... -0.209531 -0.007627   \n",
       "587        0.017619 -0.007111  0.028371  0.054371  ...  0.225530  0.018858   \n",
       "588        0.014776 -0.014796  0.033821  0.056405  ...  0.215194  0.019306   \n",
       "589        0.001934 -0.065981 -0.016404  0.003832  ...  0.431895  0.028049   \n",
       "Pass/Fail  0.031041  0.021940  0.028314 -0.030853  ... -0.001420  0.019776   \n",
       "\n",
       "                583       584       585       586       587       588  \\\n",
       "0          0.026022  0.024993  0.025688  0.045321 -0.003207 -0.003095   \n",
       "1          0.003667  0.003975  0.003654 -0.009365  0.039222  0.040154   \n",
       "2         -0.012305 -0.010042 -0.011645  0.015333 -0.007861 -0.010088   \n",
       "3          0.032600  0.032053  0.033658  0.035564 -0.040474 -0.035538   \n",
       "4         -0.000662 -0.001077 -0.001087 -0.043489 -0.030680 -0.025844   \n",
       "...             ...       ...       ...       ...       ...       ...   \n",
       "586        0.002775  0.002197  0.003514  1.000000  0.166299  0.161676   \n",
       "587       -0.001698 -0.000805 -0.002008  0.166299  1.000000  0.973904   \n",
       "588        0.002530  0.003497  0.002206  0.161676  0.973904  1.000000   \n",
       "589        0.003220  0.002833  0.002130 -0.487661  0.391219  0.390503   \n",
       "Pass/Fail  0.007064  0.008226  0.005995 -0.010005  0.018311  0.015415   \n",
       "\n",
       "                589  Pass/Fail  \n",
       "0          0.018692   0.008540  \n",
       "1          0.044994  -0.021934  \n",
       "2         -0.030468   0.025613  \n",
       "3         -0.083088  -0.017971  \n",
       "4          0.050573  -0.013551  \n",
       "...             ...        ...  \n",
       "586       -0.487661  -0.010005  \n",
       "587        0.391219   0.018311  \n",
       "588        0.390503   0.015415  \n",
       "589        1.000000  -0.002682  \n",
       "Pass/Fail -0.002682   1.000000  \n",
       "\n",
       "[475 rows x 475 columns]"
      ]
     },
     "execution_count": 22,
     "metadata": {},
     "output_type": "execute_result"
    }
   ],
   "source": [
    "# creating a correlation matrix :\n",
    "\n",
    "corr_matrix = data1.corr()\n",
    "corr_matrix"
   ]
  },
  {
   "cell_type": "code",
   "execution_count": 23,
   "id": "e114ca9c",
   "metadata": {},
   "outputs": [
    {
     "data": {
      "text/plain": [
       "<AxesSubplot:>"
      ]
     },
     "execution_count": 23,
     "metadata": {},
     "output_type": "execute_result"
    },
    {
     "data": {
      "image/png": "[encoded data removed]",
      "text/plain": [
       "<Figure size 720x576 with 2 Axes>"
      ]
     },
     "metadata": {
      "needs_background": "light"
     },
     "output_type": "display_data"
    }
   ],
   "source": [
    "# Heatmap :\n",
    "plt.figure (figsize = (10, 8))\n",
    "sns.heatmap (corr_matrix, cmap = 'YlGnBu')"
   ]
  },
  {
   "cell_type": "code",
   "execution_count": 24,
   "id": "7ab1253f",
   "metadata": {},
   "outputs": [
    {
     "data": {
      "text/html": [
       "<div>\n",
       "<style scoped>\n",
       "    .dataframe tbody tr th:only-of-type {\n",
       "        vertical-align: middle;\n",
       "    }\n",
       "\n",
       "    .dataframe tbody tr th {\n",
       "        vertical-align: top;\n",
       "    }\n",
       "\n",
       "    .dataframe thead th {\n",
       "        text-align: right;\n",
       "    }\n",
       "</style>\n",
       "<table border=\"1\" class=\"dataframe\">\n",
       "  <thead>\n",
       "    <tr style=\"text-align: right;\">\n",
       "      <th></th>\n",
       "      <th>0</th>\n",
       "      <th>1</th>\n",
       "      <th>2</th>\n",
       "      <th>3</th>\n",
       "      <th>4</th>\n",
       "      <th>5</th>\n",
       "      <th>6</th>\n",
       "      <th>7</th>\n",
       "      <th>8</th>\n",
       "      <th>9</th>\n",
       "      <th>...</th>\n",
       "      <th>581</th>\n",
       "      <th>582</th>\n",
       "      <th>583</th>\n",
       "      <th>584</th>\n",
       "      <th>585</th>\n",
       "      <th>586</th>\n",
       "      <th>587</th>\n",
       "      <th>588</th>\n",
       "      <th>589</th>\n",
       "      <th>Pass/Fail</th>\n",
       "    </tr>\n",
       "  </thead>\n",
       "  <tbody>\n",
       "    <tr>\n",
       "      <th>0</th>\n",
       "      <td>NaN</td>\n",
       "      <td>-0.051731</td>\n",
       "      <td>0.009742</td>\n",
       "      <td>0.005773</td>\n",
       "      <td>-0.001583</td>\n",
       "      <td>0.011104</td>\n",
       "      <td>0.008468</td>\n",
       "      <td>0.011955</td>\n",
       "      <td>-0.056840</td>\n",
       "      <td>0.012133</td>\n",
       "      <td>...</td>\n",
       "      <td>-0.029241</td>\n",
       "      <td>0.007309</td>\n",
       "      <td>0.026022</td>\n",
       "      <td>0.024993</td>\n",
       "      <td>0.025688</td>\n",
       "      <td>0.045321</td>\n",
       "      <td>-0.003207</td>\n",
       "      <td>-0.003095</td>\n",
       "      <td>0.018692</td>\n",
       "      <td>0.008540</td>\n",
       "    </tr>\n",
       "    <tr>\n",
       "      <th>1</th>\n",
       "      <td>NaN</td>\n",
       "      <td>NaN</td>\n",
       "      <td>-0.030590</td>\n",
       "      <td>0.007414</td>\n",
       "      <td>0.002214</td>\n",
       "      <td>-0.030153</td>\n",
       "      <td>-0.032144</td>\n",
       "      <td>-0.024789</td>\n",
       "      <td>0.027273</td>\n",
       "      <td>0.002883</td>\n",
       "      <td>...</td>\n",
       "      <td>0.042705</td>\n",
       "      <td>-0.017285</td>\n",
       "      <td>0.003667</td>\n",
       "      <td>0.003975</td>\n",
       "      <td>0.003654</td>\n",
       "      <td>-0.009365</td>\n",
       "      <td>0.039222</td>\n",
       "      <td>0.040154</td>\n",
       "      <td>0.044994</td>\n",
       "      <td>-0.021934</td>\n",
       "    </tr>\n",
       "    <tr>\n",
       "      <th>2</th>\n",
       "      <td>NaN</td>\n",
       "      <td>NaN</td>\n",
       "      <td>NaN</td>\n",
       "      <td>0.323217</td>\n",
       "      <td>0.020441</td>\n",
       "      <td>0.990083</td>\n",
       "      <td>0.818672</td>\n",
       "      <td>0.746932</td>\n",
       "      <td>0.002709</td>\n",
       "      <td>-0.047061</td>\n",
       "      <td>...</td>\n",
       "      <td>0.038127</td>\n",
       "      <td>-0.010349</td>\n",
       "      <td>-0.012305</td>\n",
       "      <td>-0.010042</td>\n",
       "      <td>-0.011645</td>\n",
       "      <td>0.015333</td>\n",
       "      <td>-0.007861</td>\n",
       "      <td>-0.010088</td>\n",
       "      <td>-0.030468</td>\n",
       "      <td>0.025613</td>\n",
       "    </tr>\n",
       "    <tr>\n",
       "      <th>3</th>\n",
       "      <td>NaN</td>\n",
       "      <td>NaN</td>\n",
       "      <td>NaN</td>\n",
       "      <td>NaN</td>\n",
       "      <td>-0.053751</td>\n",
       "      <td>0.285600</td>\n",
       "      <td>-0.119392</td>\n",
       "      <td>0.279457</td>\n",
       "      <td>-0.109926</td>\n",
       "      <td>0.055518</td>\n",
       "      <td>...</td>\n",
       "      <td>0.000344</td>\n",
       "      <td>0.008890</td>\n",
       "      <td>0.032600</td>\n",
       "      <td>0.032053</td>\n",
       "      <td>0.033658</td>\n",
       "      <td>0.035564</td>\n",
       "      <td>-0.040474</td>\n",
       "      <td>-0.035538</td>\n",
       "      <td>-0.083088</td>\n",
       "      <td>-0.017971</td>\n",
       "    </tr>\n",
       "    <tr>\n",
       "      <th>4</th>\n",
       "      <td>NaN</td>\n",
       "      <td>NaN</td>\n",
       "      <td>NaN</td>\n",
       "      <td>NaN</td>\n",
       "      <td>NaN</td>\n",
       "      <td>0.007012</td>\n",
       "      <td>-0.034789</td>\n",
       "      <td>-0.475745</td>\n",
       "      <td>-0.020116</td>\n",
       "      <td>0.054158</td>\n",
       "      <td>...</td>\n",
       "      <td>0.107129</td>\n",
       "      <td>0.012666</td>\n",
       "      <td>-0.000662</td>\n",
       "      <td>-0.001077</td>\n",
       "      <td>-0.001087</td>\n",
       "      <td>-0.043489</td>\n",
       "      <td>-0.030680</td>\n",
       "      <td>-0.025844</td>\n",
       "      <td>0.050573</td>\n",
       "      <td>-0.013551</td>\n",
       "    </tr>\n",
       "    <tr>\n",
       "      <th>...</th>\n",
       "      <td>...</td>\n",
       "      <td>...</td>\n",
       "      <td>...</td>\n",
       "      <td>...</td>\n",
       "      <td>...</td>\n",
       "      <td>...</td>\n",
       "      <td>...</td>\n",
       "      <td>...</td>\n",
       "      <td>...</td>\n",
       "      <td>...</td>\n",
       "      <td>...</td>\n",
       "      <td>...</td>\n",
       "      <td>...</td>\n",
       "      <td>...</td>\n",
       "      <td>...</td>\n",
       "      <td>...</td>\n",
       "      <td>...</td>\n",
       "      <td>...</td>\n",
       "      <td>...</td>\n",
       "      <td>...</td>\n",
       "      <td>...</td>\n",
       "    </tr>\n",
       "    <tr>\n",
       "      <th>586</th>\n",
       "      <td>NaN</td>\n",
       "      <td>NaN</td>\n",
       "      <td>NaN</td>\n",
       "      <td>NaN</td>\n",
       "      <td>NaN</td>\n",
       "      <td>NaN</td>\n",
       "      <td>NaN</td>\n",
       "      <td>NaN</td>\n",
       "      <td>NaN</td>\n",
       "      <td>NaN</td>\n",
       "      <td>...</td>\n",
       "      <td>NaN</td>\n",
       "      <td>NaN</td>\n",
       "      <td>NaN</td>\n",
       "      <td>NaN</td>\n",
       "      <td>NaN</td>\n",
       "      <td>NaN</td>\n",
       "      <td>0.166299</td>\n",
       "      <td>0.161676</td>\n",
       "      <td>-0.487661</td>\n",
       "      <td>-0.010005</td>\n",
       "    </tr>\n",
       "    <tr>\n",
       "      <th>587</th>\n",
       "      <td>NaN</td>\n",
       "      <td>NaN</td>\n",
       "      <td>NaN</td>\n",
       "      <td>NaN</td>\n",
       "      <td>NaN</td>\n",
       "      <td>NaN</td>\n",
       "      <td>NaN</td>\n",
       "      <td>NaN</td>\n",
       "      <td>NaN</td>\n",
       "      <td>NaN</td>\n",
       "      <td>...</td>\n",
       "      <td>NaN</td>\n",
       "      <td>NaN</td>\n",
       "      <td>NaN</td>\n",
       "      <td>NaN</td>\n",
       "      <td>NaN</td>\n",
       "      <td>NaN</td>\n",
       "      <td>NaN</td>\n",
       "      <td>0.973904</td>\n",
       "      <td>0.391219</td>\n",
       "      <td>0.018311</td>\n",
       "    </tr>\n",
       "    <tr>\n",
       "      <th>588</th>\n",
       "      <td>NaN</td>\n",
       "      <td>NaN</td>\n",
       "      <td>NaN</td>\n",
       "      <td>NaN</td>\n",
       "      <td>NaN</td>\n",
       "      <td>NaN</td>\n",
       "      <td>NaN</td>\n",
       "      <td>NaN</td>\n",
       "      <td>NaN</td>\n",
       "      <td>NaN</td>\n",
       "      <td>...</td>\n",
       "      <td>NaN</td>\n",
       "      <td>NaN</td>\n",
       "      <td>NaN</td>\n",
       "      <td>NaN</td>\n",
       "      <td>NaN</td>\n",
       "      <td>NaN</td>\n",
       "      <td>NaN</td>\n",
       "      <td>NaN</td>\n",
       "      <td>0.390503</td>\n",
       "      <td>0.015415</td>\n",
       "    </tr>\n",
       "    <tr>\n",
       "      <th>589</th>\n",
       "      <td>NaN</td>\n",
       "      <td>NaN</td>\n",
       "      <td>NaN</td>\n",
       "      <td>NaN</td>\n",
       "      <td>NaN</td>\n",
       "      <td>NaN</td>\n",
       "      <td>NaN</td>\n",
       "      <td>NaN</td>\n",
       "      <td>NaN</td>\n",
       "      <td>NaN</td>\n",
       "      <td>...</td>\n",
       "      <td>NaN</td>\n",
       "      <td>NaN</td>\n",
       "      <td>NaN</td>\n",
       "      <td>NaN</td>\n",
       "      <td>NaN</td>\n",
       "      <td>NaN</td>\n",
       "      <td>NaN</td>\n",
       "      <td>NaN</td>\n",
       "      <td>NaN</td>\n",
       "      <td>-0.002682</td>\n",
       "    </tr>\n",
       "    <tr>\n",
       "      <th>Pass/Fail</th>\n",
       "      <td>NaN</td>\n",
       "      <td>NaN</td>\n",
       "      <td>NaN</td>\n",
       "      <td>NaN</td>\n",
       "      <td>NaN</td>\n",
       "      <td>NaN</td>\n",
       "      <td>NaN</td>\n",
       "      <td>NaN</td>\n",
       "      <td>NaN</td>\n",
       "      <td>NaN</td>\n",
       "      <td>...</td>\n",
       "      <td>NaN</td>\n",
       "      <td>NaN</td>\n",
       "      <td>NaN</td>\n",
       "      <td>NaN</td>\n",
       "      <td>NaN</td>\n",
       "      <td>NaN</td>\n",
       "      <td>NaN</td>\n",
       "      <td>NaN</td>\n",
       "      <td>NaN</td>\n",
       "      <td>NaN</td>\n",
       "    </tr>\n",
       "  </tbody>\n",
       "</table>\n",
       "<p>475 rows × 475 columns</p>\n",
       "</div>"
      ],
      "text/plain": [
       "            0         1         2         3         4         5         6  \\\n",
       "0         NaN -0.051731  0.009742  0.005773 -0.001583  0.011104  0.008468   \n",
       "1         NaN       NaN -0.030590  0.007414  0.002214 -0.030153 -0.032144   \n",
       "2         NaN       NaN       NaN  0.323217  0.020441  0.990083  0.818672   \n",
       "3         NaN       NaN       NaN       NaN -0.053751  0.285600 -0.119392   \n",
       "4         NaN       NaN       NaN       NaN       NaN  0.007012 -0.034789   \n",
       "...        ..       ...       ...       ...       ...       ...       ...   \n",
       "586       NaN       NaN       NaN       NaN       NaN       NaN       NaN   \n",
       "587       NaN       NaN       NaN       NaN       NaN       NaN       NaN   \n",
       "588       NaN       NaN       NaN       NaN       NaN       NaN       NaN   \n",
       "589       NaN       NaN       NaN       NaN       NaN       NaN       NaN   \n",
       "Pass/Fail NaN       NaN       NaN       NaN       NaN       NaN       NaN   \n",
       "\n",
       "                  7         8         9  ...       581       582       583  \\\n",
       "0          0.011955 -0.056840  0.012133  ... -0.029241  0.007309  0.026022   \n",
       "1         -0.024789  0.027273  0.002883  ...  0.042705 -0.017285  0.003667   \n",
       "2          0.746932  0.002709 -0.047061  ...  0.038127 -0.010349 -0.012305   \n",
       "3          0.279457 -0.109926  0.055518  ...  0.000344  0.008890  0.032600   \n",
       "4         -0.475745 -0.020116  0.054158  ...  0.107129  0.012666 -0.000662   \n",
       "...             ...       ...       ...  ...       ...       ...       ...   \n",
       "586             NaN       NaN       NaN  ...       NaN       NaN       NaN   \n",
       "587             NaN       NaN       NaN  ...       NaN       NaN       NaN   \n",
       "588             NaN       NaN       NaN  ...       NaN       NaN       NaN   \n",
       "589             NaN       NaN       NaN  ...       NaN       NaN       NaN   \n",
       "Pass/Fail       NaN       NaN       NaN  ...       NaN       NaN       NaN   \n",
       "\n",
       "                584       585       586       587       588       589  \\\n",
       "0          0.024993  0.025688  0.045321 -0.003207 -0.003095  0.018692   \n",
       "1          0.003975  0.003654 -0.009365  0.039222  0.040154  0.044994   \n",
       "2         -0.010042 -0.011645  0.015333 -0.007861 -0.010088 -0.030468   \n",
       "3          0.032053  0.033658  0.035564 -0.040474 -0.035538 -0.083088   \n",
       "4         -0.001077 -0.001087 -0.043489 -0.030680 -0.025844  0.050573   \n",
       "...             ...       ...       ...       ...       ...       ...   \n",
       "586             NaN       NaN       NaN  0.166299  0.161676 -0.487661   \n",
       "587             NaN       NaN       NaN       NaN  0.973904  0.391219   \n",
       "588             NaN       NaN       NaN       NaN       NaN  0.390503   \n",
       "589             NaN       NaN       NaN       NaN       NaN       NaN   \n",
       "Pass/Fail       NaN       NaN       NaN       NaN       NaN       NaN   \n",
       "\n",
       "           Pass/Fail  \n",
       "0           0.008540  \n",
       "1          -0.021934  \n",
       "2           0.025613  \n",
       "3          -0.017971  \n",
       "4          -0.013551  \n",
       "...              ...  \n",
       "586        -0.010005  \n",
       "587         0.018311  \n",
       "588         0.015415  \n",
       "589        -0.002682  \n",
       "Pass/Fail        NaN  \n",
       "\n",
       "[475 rows x 475 columns]"
      ]
     },
     "execution_count": 24,
     "metadata": {},
     "output_type": "execute_result"
    }
   ],
   "source": [
    "upper = corr_matrix.where (np.triu (np.ones (corr_matrix.shape), k = 1).astype (bool))\n",
    "upper"
   ]
  },
  {
   "cell_type": "code",
   "execution_count": 25,
   "id": "48cc8e29",
   "metadata": {},
   "outputs": [
    {
     "data": {
      "text/plain": [
       "<AxesSubplot:>"
      ]
     },
     "execution_count": 25,
     "metadata": {},
     "output_type": "execute_result"
    },
    {
     "data": {
      "image/png": "[encoded data removed]",
      "text/plain": [
       "<Figure size 720x576 with 2 Axes>"
      ]
     },
     "metadata": {
      "needs_background": "light"
     },
     "output_type": "display_data"
    }
   ],
   "source": [
    "plt.figure (figsize = (10, 8))\n",
    "sns.heatmap (upper, cmap = 'YlGnBu')"
   ]
  },
  {
   "cell_type": "code",
   "execution_count": 26,
   "id": "0ea8052a",
   "metadata": {},
   "outputs": [
    {
     "name": "stdout",
     "output_type": "stream",
     "text": [
      "Negative Correlated : \n",
      " ['96', '104', '105', '106']\n",
      "\n",
      "Positive Correlated : \n",
      " ['5', '18', '27', '38', '39', '50', '54', '55', '56', '57', '58', '66', '70', '73', '101', '110', '111', '123', '124', '127', '131', '133', '140', '148', '152', '154', '164', '165', '174', '199', '204', '207', '220', '245', '246', '249', '252', '270', '271', '272', '273', '274', '275', '277', '278', '279', '280', '281', '282', '283', '285', '286', '287', '288', '289', '290', '291', '292', '293', '294', '295', '296', '297', '298', '299', '300', '301', '302', '303', '304', '305', '306', '307', '308', '309', '310', '311', '312', '317', '318', '319', '320', '321', '323', '324', '331', '332', '333', '334', '335', '336', '337', '338', '339', '340', '341', '342', '343', '344', '346', '347', '348', '349', '350', '351', '352', '353', '354', '355', '356', '357', '358', '359', '360', '361', '362', '363', '365', '366', '376', '377', '382', '383', '384', '385', '386', '387', '388', '389', '390', '391', '392', '393', '405', '406', '407', '408', '409', '410', '411', '413', '415', '416', '417', '420', '421', '424', '425', '426', '427', '428', '429', '434', '435', '436', '437', '440', '441', '442', '443', '444', '445', '446', '447', '448', '452', '453', '454', '455', '456', '457', '459', '467', '469', '470', '471', '475', '477', '478', '479', '490', '491', '492', '493', '494', '495', '497', '516', '517', '518', '519', '520', '522', '523', '524', '525', '526', '527', '539', '540', '541', '545', '548', '552', '553', '554', '556', '557', '561', '563', '566', '567', '568', '569', '574', '575', '576', '577', '580', '584', '585', '588']\n"
     ]
    }
   ],
   "source": [
    "# finding the columns having correlation coeffiecient more than 0.9 and less than -0.9 :\n",
    "\n",
    "neg_correlated = [column for column in upper.columns\n",
    "                 if any (upper [column] < -0.9)]\n",
    "pos_correlated = [column for column in upper.columns\n",
    "                 if any (upper [column] > 0.9)]\n",
    "print ('Negative Correlated : \\n',neg_correlated)\n",
    "print()\n",
    "print('Positive Correlated : \\n',pos_correlated)"
   ]
  },
  {
   "cell_type": "code",
   "execution_count": 27,
   "id": "3ace90aa",
   "metadata": {},
   "outputs": [
    {
     "name": "stdout",
     "output_type": "stream",
     "text": [
      "No. of columns having high corr. coeff. which are to be dropped :  226\n"
     ]
    }
   ],
   "source": [
    "total_correlated = neg_correlated + pos_correlated\n",
    "print ('No. of columns having high corr. coeff. which are to be dropped : ', len (total_correlated))"
   ]
  },
  {
   "cell_type": "code",
   "execution_count": 28,
   "id": "7b10e77d",
   "metadata": {},
   "outputs": [
    {
     "data": {
      "text/plain": [
       "(1577, 475)"
      ]
     },
     "execution_count": 28,
     "metadata": {},
     "output_type": "execute_result"
    }
   ],
   "source": [
    "data1.shape"
   ]
  },
  {
   "cell_type": "code",
   "execution_count": 29,
   "id": "87a8185d",
   "metadata": {},
   "outputs": [
    {
     "data": {
      "text/plain": [
       "(1577, 249)"
      ]
     },
     "execution_count": 29,
     "metadata": {},
     "output_type": "execute_result"
    }
   ],
   "source": [
    "df = data1.drop (total_correlated, axis = 1)\n",
    "df.shape"
   ]
  },
  {
   "cell_type": "code",
   "execution_count": 30,
   "id": "166ecbaa",
   "metadata": {},
   "outputs": [],
   "source": [
    "# VIF Approach :\n",
    "from statsmodels.stats.outliers_influence import variance_inflation_factor"
   ]
  },
  {
   "cell_type": "code",
   "execution_count": 31,
   "id": "b1fc5ab5",
   "metadata": {},
   "outputs": [
    {
     "data": {
      "text/html": [
       "<div>\n",
       "<style scoped>\n",
       "    .dataframe tbody tr th:only-of-type {\n",
       "        vertical-align: middle;\n",
       "    }\n",
       "\n",
       "    .dataframe tbody tr th {\n",
       "        vertical-align: top;\n",
       "    }\n",
       "\n",
       "    .dataframe thead th {\n",
       "        text-align: right;\n",
       "    }\n",
       "</style>\n",
       "<table border=\"1\" class=\"dataframe\">\n",
       "  <thead>\n",
       "    <tr style=\"text-align: right;\">\n",
       "      <th></th>\n",
       "      <th>variables</th>\n",
       "      <th>VIF</th>\n",
       "    </tr>\n",
       "  </thead>\n",
       "  <tbody>\n",
       "    <tr>\n",
       "      <th>0</th>\n",
       "      <td>0</td>\n",
       "      <td>337.321095</td>\n",
       "    </tr>\n",
       "    <tr>\n",
       "      <th>1</th>\n",
       "      <td>1</td>\n",
       "      <td>222.401571</td>\n",
       "    </tr>\n",
       "    <tr>\n",
       "      <th>2</th>\n",
       "      <td>2</td>\n",
       "      <td>1395.482566</td>\n",
       "    </tr>\n",
       "    <tr>\n",
       "      <th>3</th>\n",
       "      <td>3</td>\n",
       "      <td>83.834809</td>\n",
       "    </tr>\n",
       "    <tr>\n",
       "      <th>4</th>\n",
       "      <td>4</td>\n",
       "      <td>3.967367</td>\n",
       "    </tr>\n",
       "    <tr>\n",
       "      <th>...</th>\n",
       "      <td>...</td>\n",
       "      <td>...</td>\n",
       "    </tr>\n",
       "    <tr>\n",
       "      <th>244</th>\n",
       "      <td>583</td>\n",
       "      <td>3.064608</td>\n",
       "    </tr>\n",
       "    <tr>\n",
       "      <th>245</th>\n",
       "      <td>586</td>\n",
       "      <td>10.047529</td>\n",
       "    </tr>\n",
       "    <tr>\n",
       "      <th>246</th>\n",
       "      <td>587</td>\n",
       "      <td>14.777588</td>\n",
       "    </tr>\n",
       "    <tr>\n",
       "      <th>247</th>\n",
       "      <td>589</td>\n",
       "      <td>6.948416</td>\n",
       "    </tr>\n",
       "    <tr>\n",
       "      <th>248</th>\n",
       "      <td>Pass/Fail</td>\n",
       "      <td>1.441186</td>\n",
       "    </tr>\n",
       "  </tbody>\n",
       "</table>\n",
       "<p>249 rows × 2 columns</p>\n",
       "</div>"
      ],
      "text/plain": [
       "     variables          VIF\n",
       "0            0   337.321095\n",
       "1            1   222.401571\n",
       "2            2  1395.482566\n",
       "3            3    83.834809\n",
       "4            4     3.967367\n",
       "..         ...          ...\n",
       "244        583     3.064608\n",
       "245        586    10.047529\n",
       "246        587    14.777588\n",
       "247        589     6.948416\n",
       "248  Pass/Fail     1.441186\n",
       "\n",
       "[249 rows x 2 columns]"
      ]
     },
     "execution_count": 31,
     "metadata": {},
     "output_type": "execute_result"
    }
   ],
   "source": [
    "vif = pd.DataFrame()\n",
    "vif ['variables'] = df.columns\n",
    "vif ['VIF'] = [variance_inflation_factor (df.values, i)\n",
    "              for i in range (df.shape [1])]\n",
    "vif"
   ]
  },
  {
   "cell_type": "code",
   "execution_count": 32,
   "id": "c4641e8b",
   "metadata": {},
   "outputs": [
    {
     "data": {
      "text/html": [
       "<div>\n",
       "<style scoped>\n",
       "    .dataframe tbody tr th:only-of-type {\n",
       "        vertical-align: middle;\n",
       "    }\n",
       "\n",
       "    .dataframe tbody tr th {\n",
       "        vertical-align: top;\n",
       "    }\n",
       "\n",
       "    .dataframe thead th {\n",
       "        text-align: right;\n",
       "    }\n",
       "</style>\n",
       "<table border=\"1\" class=\"dataframe\">\n",
       "  <thead>\n",
       "    <tr style=\"text-align: right;\">\n",
       "      <th></th>\n",
       "      <th>variables</th>\n",
       "      <th>VIF</th>\n",
       "    </tr>\n",
       "  </thead>\n",
       "  <tbody>\n",
       "    <tr>\n",
       "      <th>0</th>\n",
       "      <td>0</td>\n",
       "      <td>337.321095</td>\n",
       "    </tr>\n",
       "    <tr>\n",
       "      <th>1</th>\n",
       "      <td>1</td>\n",
       "      <td>222.401571</td>\n",
       "    </tr>\n",
       "    <tr>\n",
       "      <th>2</th>\n",
       "      <td>2</td>\n",
       "      <td>1395.482566</td>\n",
       "    </tr>\n",
       "    <tr>\n",
       "      <th>3</th>\n",
       "      <td>3</td>\n",
       "      <td>83.834809</td>\n",
       "    </tr>\n",
       "    <tr>\n",
       "      <th>4</th>\n",
       "      <td>4</td>\n",
       "      <td>3.967367</td>\n",
       "    </tr>\n",
       "    <tr>\n",
       "      <th>...</th>\n",
       "      <td>...</td>\n",
       "      <td>...</td>\n",
       "    </tr>\n",
       "    <tr>\n",
       "      <th>244</th>\n",
       "      <td>583</td>\n",
       "      <td>3.064608</td>\n",
       "    </tr>\n",
       "    <tr>\n",
       "      <th>245</th>\n",
       "      <td>586</td>\n",
       "      <td>10.047529</td>\n",
       "    </tr>\n",
       "    <tr>\n",
       "      <th>246</th>\n",
       "      <td>587</td>\n",
       "      <td>14.777588</td>\n",
       "    </tr>\n",
       "    <tr>\n",
       "      <th>247</th>\n",
       "      <td>589</td>\n",
       "      <td>6.948416</td>\n",
       "    </tr>\n",
       "    <tr>\n",
       "      <th>248</th>\n",
       "      <td>Pass/Fail</td>\n",
       "      <td>1.441186</td>\n",
       "    </tr>\n",
       "  </tbody>\n",
       "</table>\n",
       "<p>249 rows × 2 columns</p>\n",
       "</div>"
      ],
      "text/plain": [
       "     variables          VIF\n",
       "0            0   337.321095\n",
       "1            1   222.401571\n",
       "2            2  1395.482566\n",
       "3            3    83.834809\n",
       "4            4     3.967367\n",
       "..         ...          ...\n",
       "244        583     3.064608\n",
       "245        586    10.047529\n",
       "246        587    14.777588\n",
       "247        589     6.948416\n",
       "248  Pass/Fail     1.441186\n",
       "\n",
       "[249 rows x 2 columns]"
      ]
     },
     "execution_count": 32,
     "metadata": {},
     "output_type": "execute_result"
    }
   ],
   "source": [
    "vif"
   ]
  },
  {
   "cell_type": "code",
   "execution_count": 33,
   "id": "4e62d068",
   "metadata": {},
   "outputs": [
    {
     "data": {
      "text/plain": [
       "(165, 2)"
      ]
     },
     "execution_count": 33,
     "metadata": {},
     "output_type": "execute_result"
    }
   ],
   "source": [
    "high_vif = vif [vif ['VIF'] > 10].sort_values ('VIF')\n",
    "high_vif.shape"
   ]
  },
  {
   "cell_type": "code",
   "execution_count": 34,
   "id": "218d61cd",
   "metadata": {},
   "outputs": [],
   "source": [
    "# We must add constant when we calculate the VIF :"
   ]
  },
  {
   "cell_type": "code",
   "execution_count": 35,
   "id": "47934d7d",
   "metadata": {},
   "outputs": [],
   "source": [
    "import statsmodels.api as sm\n",
    "df1 = sm.add_constant (df)"
   ]
  },
  {
   "cell_type": "code",
   "execution_count": 36,
   "id": "81fb8df0",
   "metadata": {},
   "outputs": [
    {
     "data": {
      "text/html": [
       "<div>\n",
       "<style scoped>\n",
       "    .dataframe tbody tr th:only-of-type {\n",
       "        vertical-align: middle;\n",
       "    }\n",
       "\n",
       "    .dataframe tbody tr th {\n",
       "        vertical-align: top;\n",
       "    }\n",
       "\n",
       "    .dataframe thead th {\n",
       "        text-align: right;\n",
       "    }\n",
       "</style>\n",
       "<table border=\"1\" class=\"dataframe\">\n",
       "  <thead>\n",
       "    <tr style=\"text-align: right;\">\n",
       "      <th></th>\n",
       "      <th>variables</th>\n",
       "      <th>VIF</th>\n",
       "    </tr>\n",
       "  </thead>\n",
       "  <tbody>\n",
       "    <tr>\n",
       "      <th>0</th>\n",
       "      <td>const</td>\n",
       "      <td>123447.705529</td>\n",
       "    </tr>\n",
       "    <tr>\n",
       "      <th>1</th>\n",
       "      <td>0</td>\n",
       "      <td>1.273804</td>\n",
       "    </tr>\n",
       "    <tr>\n",
       "      <th>2</th>\n",
       "      <td>1</td>\n",
       "      <td>1.217282</td>\n",
       "    </tr>\n",
       "    <tr>\n",
       "      <th>3</th>\n",
       "      <td>2</td>\n",
       "      <td>12.647160</td>\n",
       "    </tr>\n",
       "    <tr>\n",
       "      <th>4</th>\n",
       "      <td>3</td>\n",
       "      <td>8.295323</td>\n",
       "    </tr>\n",
       "    <tr>\n",
       "      <th>...</th>\n",
       "      <td>...</td>\n",
       "      <td>...</td>\n",
       "    </tr>\n",
       "    <tr>\n",
       "      <th>245</th>\n",
       "      <td>583</td>\n",
       "      <td>1.264107</td>\n",
       "    </tr>\n",
       "    <tr>\n",
       "      <th>246</th>\n",
       "      <td>586</td>\n",
       "      <td>2.502413</td>\n",
       "    </tr>\n",
       "    <tr>\n",
       "      <th>247</th>\n",
       "      <td>587</td>\n",
       "      <td>3.302547</td>\n",
       "    </tr>\n",
       "    <tr>\n",
       "      <th>248</th>\n",
       "      <td>589</td>\n",
       "      <td>3.255377</td>\n",
       "    </tr>\n",
       "    <tr>\n",
       "      <th>249</th>\n",
       "      <td>Pass/Fail</td>\n",
       "      <td>1.345238</td>\n",
       "    </tr>\n",
       "  </tbody>\n",
       "</table>\n",
       "<p>250 rows × 2 columns</p>\n",
       "</div>"
      ],
      "text/plain": [
       "     variables            VIF\n",
       "0        const  123447.705529\n",
       "1            0       1.273804\n",
       "2            1       1.217282\n",
       "3            2      12.647160\n",
       "4            3       8.295323\n",
       "..         ...            ...\n",
       "245        583       1.264107\n",
       "246        586       2.502413\n",
       "247        587       3.302547\n",
       "248        589       3.255377\n",
       "249  Pass/Fail       1.345238\n",
       "\n",
       "[250 rows x 2 columns]"
      ]
     },
     "execution_count": 36,
     "metadata": {},
     "output_type": "execute_result"
    }
   ],
   "source": [
    "vif1 = pd.DataFrame()\n",
    "vif1 ['variables'] = df1.columns\n",
    "vif1 ['VIF'] = [variance_inflation_factor (df1.values, i)\n",
    "              for i in range (df1.shape [1])]\n",
    "vif1"
   ]
  },
  {
   "cell_type": "code",
   "execution_count": 37,
   "id": "a276c96e",
   "metadata": {},
   "outputs": [
    {
     "data": {
      "text/plain": [
       "(60, 2)"
      ]
     },
     "execution_count": 37,
     "metadata": {},
     "output_type": "execute_result"
    }
   ],
   "source": [
    "high_vif_1 = vif1 [vif1 ['VIF'] > 10].sort_values ('VIF')\n",
    "high_vif_1.shape"
   ]
  },
  {
   "cell_type": "code",
   "execution_count": 38,
   "id": "da3076f4",
   "metadata": {},
   "outputs": [
    {
     "data": {
      "text/plain": [
       "(1577, 190)"
      ]
     },
     "execution_count": 38,
     "metadata": {},
     "output_type": "execute_result"
    }
   ],
   "source": [
    "df2 = df1.drop (high_vif_1 ['variables'], axis = 1)\n",
    "df2.shape"
   ]
  },
  {
   "cell_type": "code",
   "execution_count": 39,
   "id": "8a25ebbd",
   "metadata": {},
   "outputs": [],
   "source": [
    "# Dependent and independent variable :\n",
    "\n",
    "X = df2.drop (['Pass/Fail'], axis = 1)\n",
    "y = df2 ['Pass/Fail']"
   ]
  },
  {
   "cell_type": "code",
   "execution_count": 40,
   "id": "74bdd102",
   "metadata": {},
   "outputs": [],
   "source": [
    "from sklearn.feature_selection import SelectFromModel, RFECV\n",
    "from sklearn.ensemble import RandomForestClassifier"
   ]
  },
  {
   "cell_type": "code",
   "execution_count": 41,
   "id": "d9161ee0",
   "metadata": {},
   "outputs": [
    {
     "name": "stdout",
     "output_type": "stream",
     "text": [
      "(1261, 189)\n",
      "(316, 189)\n",
      "(1261,)\n",
      "(316,)\n"
     ]
    }
   ],
   "source": [
    "from sklearn.model_selection import train_test_split\n",
    "X_train, X_test, y_train, y_test = train_test_split (X, y, random_state = 101, test_size = 0.2, stratify = y)\n",
    "print(X_train.shape)\n",
    "print(X_test.shape)\n",
    "print(y_train.shape)\n",
    "print(y_test.shape)"
   ]
  },
  {
   "cell_type": "code",
   "execution_count": 42,
   "id": "31a7d354",
   "metadata": {},
   "outputs": [
    {
     "name": "stdout",
     "output_type": "stream",
     "text": [
      "building tree 1 of 100building tree 2 of 100building tree 3 of 100building tree 4 of 100\n",
      "\n",
      "\n",
      "\n",
      "building tree 5 of 100\n",
      "building tree 6 of 100\n",
      "building tree 7 of 100\n",
      "building tree 8 of 100\n",
      "building tree 9 of 100\n",
      "building tree 10 of 100\n",
      "building tree 11 of 100\n",
      "building tree 12 of 100\n",
      "building tree 13 of 100\n",
      "building tree 14 of 100\n",
      "building tree 15 of 100\n",
      "building tree 16 of 100\n",
      "building tree 17 of 100\n",
      "building tree 18 of 100\n"
     ]
    },
    {
     "name": "stderr",
     "output_type": "stream",
     "text": [
      "[Parallel(n_jobs=-1)]: Using backend ThreadingBackend with 4 concurrent workers.\n",
      "[Parallel(n_jobs=-1)]: Done  24 tasks      | elapsed:    0.1s\n"
     ]
    },
    {
     "name": "stdout",
     "output_type": "stream",
     "text": [
      "building tree 19 of 100\n",
      "building tree 20 of 100\n",
      "building tree 21 of 100\n",
      "building tree 22 of 100\n",
      "building tree 23 of 100\n",
      "building tree 24 of 100\n",
      "building tree 25 of 100\n",
      "building tree 26 of 100\n",
      "building tree 27 of 100\n",
      "building tree 28 of 100\n",
      "building tree 29 of 100\n",
      "building tree 30 of 100\n",
      "building tree 31 of 100\n",
      "building tree 32 of 100\n",
      "building tree 33 of 100\n",
      "building tree 34 of 100\n",
      "building tree 35 of 100\n",
      "building tree 36 of 100\n",
      "building tree 37 of 100\n",
      "building tree 38 of 100\n",
      "building tree 39 of 100\n",
      "building tree 40 of 100\n",
      "building tree 41 of 100\n",
      "building tree 42 of 100\n",
      "building tree 43 of 100\n",
      "building tree 44 of 100\n",
      "building tree 45 of 100\n",
      "building tree 46 of 100\n",
      "building tree 47 of 100\n",
      "building tree 48 of 100\n",
      "building tree 49 of 100\n",
      "building tree 50 of 100\n",
      "building tree 51 of 100\n",
      "building tree 52 of 100\n",
      "building tree 53 of 100\n",
      "building tree 54 of 100\n",
      "building tree 55 of 100\n",
      "building tree 56 of 100\n",
      "building tree 57 of 100\n",
      "building tree 58 of 100\n",
      "building tree 59 of 100\n",
      "building tree 60 of 100\n",
      "building tree 61 of 100\n",
      "building tree 62 of 100\n",
      "building tree 63 of 100\n",
      "building tree 64 of 100\n",
      "building tree 65 of 100\n",
      "building tree 66 of 100\n",
      "building tree 67 of 100\n",
      "building tree 68 of 100\n",
      "building tree 69 of 100\n",
      "building tree 70 of 100\n",
      "building tree 71 of 100\n",
      "building tree 72 of 100\n",
      "building tree 73 of 100\n",
      "building tree 74 of 100\n",
      "building tree 75 of 100\n",
      "building tree 76 of 100\n",
      "building tree 77 of 100\n",
      "building tree 78 of 100\n",
      "building tree 79 of 100\n",
      "building tree 80 of 100\n",
      "building tree 81 of 100\n",
      "building tree 82 of 100\n",
      "building tree 83 of 100\n",
      "building tree 84 of 100\n",
      "building tree 85 of 100\n",
      "building tree 86 of 100\n",
      "building tree 87 of 100\n",
      "building tree 88 of 100\n",
      "building tree 89 of 100\n",
      "building tree 90 of 100\n",
      "building tree 91 of 100\n",
      "building tree 92 of 100\n",
      "building tree 93 of 100\n",
      "building tree 94 of 100building tree 95 of 100\n",
      "\n",
      "building tree 96 of 100\n",
      "building tree 97 of 100\n",
      "building tree 98 of 100\n",
      "building tree 99 of 100\n",
      "building tree 100 of 100\n"
     ]
    },
    {
     "name": "stderr",
     "output_type": "stream",
     "text": [
      "[Parallel(n_jobs=-1)]: Done 100 out of 100 | elapsed:    0.4s finished\n"
     ]
    },
    {
     "data": {
      "text/plain": [
       "SelectFromModel(estimator=RandomForestClassifier(n_jobs=-1, random_state=True,\n",
       "                                                 verbose=3))"
      ]
     },
     "execution_count": 42,
     "metadata": {},
     "output_type": "execute_result"
    }
   ],
   "source": [
    "sfm = SelectFromModel (RandomForestClassifier (n_estimators = 100, random_state = True, n_jobs = -1, verbose = 3))\n",
    "# sfm = SelectFromModel (RFECV (estimator = RandomForestClassifier()))\n",
    "sfm.fit (X_train, y_train)"
   ]
  },
  {
   "cell_type": "code",
   "execution_count": 43,
   "id": "245c8d78",
   "metadata": {},
   "outputs": [
    {
     "data": {
      "text/plain": [
       "array([ True, False, False, False, False, False, False, False,  True,\n",
       "       False, False, False,  True, False,  True,  True, False, False,\n",
       "       False, False,  True, False,  True, False,  True,  True, False,\n",
       "        True,  True,  True,  True,  True, False,  True, False,  True,\n",
       "       False, False,  True, False, False, False,  True, False,  True,\n",
       "       False, False, False,  True, False, False, False,  True,  True,\n",
       "        True, False, False,  True, False, False, False, False,  True,\n",
       "        True,  True,  True, False, False, False, False,  True, False,\n",
       "       False, False, False, False,  True, False, False, False, False,\n",
       "        True, False,  True, False,  True, False, False, False, False,\n",
       "        True,  True,  True,  True,  True, False, False, False,  True,\n",
       "       False, False, False,  True,  True, False,  True,  True, False,\n",
       "       False, False, False,  True,  True, False, False, False, False,\n",
       "        True, False, False, False,  True,  True,  True, False,  True,\n",
       "       False, False,  True, False,  True,  True, False, False, False,\n",
       "        True, False,  True, False,  True,  True,  True, False, False,\n",
       "       False,  True, False,  True,  True,  True,  True, False,  True,\n",
       "       False, False, False, False, False, False, False, False, False,\n",
       "        True,  True,  True, False, False, False, False, False,  True,\n",
       "        True, False, False, False, False, False, False, False,  True,\n",
       "       False,  True, False, False,  True, False, False,  True,  True])"
      ]
     },
     "execution_count": 43,
     "metadata": {},
     "output_type": "execute_result"
    }
   ],
   "source": [
    "sfm.get_support()\n",
    "# features which pass the benchmark will show as True otherwise False"
   ]
  },
  {
   "cell_type": "code",
   "execution_count": 44,
   "id": "2a4f92cb",
   "metadata": {},
   "outputs": [
    {
     "name": "stdout",
     "output_type": "stream",
     "text": [
      "benchmark : mean of feature importance :  0.005291005291005291\n"
     ]
    }
   ],
   "source": [
    "print ('benchmark : mean of feature importance : ', np.mean (sfm.estimator_.feature_importances_))"
   ]
  },
  {
   "cell_type": "code",
   "execution_count": 45,
   "id": "990de600",
   "metadata": {},
   "outputs": [
    {
     "data": {
      "text/plain": [
       "array([0.00959887, 0.00394663, 0.00451148, 0.00328944, 0.00370207,\n",
       "       0.00469796, 0.00425752, 0.0027373 , 0.0071288 , 0.00335234,\n",
       "       0.00386895, 0.00363767, 0.00555292, 0.00215955, 0.00567553,\n",
       "       0.01385646, 0.00433148, 0.00357733, 0.00435727, 0.00409039,\n",
       "       0.00850762, 0.00319194, 0.00560343, 0.0033672 , 0.01310381,\n",
       "       0.00602359, 0.00495159, 0.00607063, 0.0265737 , 0.01035962,\n",
       "       0.0053481 , 0.0107107 , 0.00240958, 0.01550197, 0.0044656 ,\n",
       "       0.00579118, 0.00412825, 0.00374106, 0.0057057 , 0.00450783,\n",
       "       0.00378438, 0.00053837, 0.00598451, 0.0020146 , 0.00765714,\n",
       "       0.00405234, 0.00208333, 0.00349487, 0.00953455, 0.00229765,\n",
       "       0.00515366, 0.00452883, 0.00677514, 0.00771679, 0.00634558,\n",
       "       0.00354564, 0.00085453, 0.00540305, 0.00329997, 0.00512612,\n",
       "       0.0046574 , 0.00257693, 0.00996301, 0.00633293, 0.01180971,\n",
       "       0.00743335, 0.00305368, 0.00164006, 0.00274753, 0.00234671,\n",
       "       0.00585847, 0.00351023, 0.00265207, 0.00454462, 0.0041661 ,\n",
       "       0.00354281, 0.0105317 , 0.00236741, 0.0025576 , 0.0041858 ,\n",
       "       0.0043123 , 0.00702812, 0.00274623, 0.00900948, 0.00311795,\n",
       "       0.0098368 , 0.00083242, 0.00204051, 0.0037734 , 0.00461077,\n",
       "       0.00626724, 0.00957021, 0.0080174 , 0.00728945, 0.00856183,\n",
       "       0.00504864, 0.0051938 , 0.00419878, 0.00531411, 0.00235635,\n",
       "       0.00433058, 0.0030463 , 0.00597828, 0.00821846, 0.00516674,\n",
       "       0.00536256, 0.00532032, 0.00371655, 0.00464609, 0.00489747,\n",
       "       0.00382445, 0.0100885 , 0.01026336, 0.00461225, 0.00449986,\n",
       "       0.00319904, 0.00488215, 0.00693697, 0.00415282, 0.00390793,\n",
       "       0.00202568, 0.00859671, 0.00607146, 0.00532103, 0.00501381,\n",
       "       0.00844095, 0.00349443, 0.004865  , 0.00599022, 0.00202934,\n",
       "       0.0097541 , 0.00977804, 0.00336297, 0.0036891 , 0.00480319,\n",
       "       0.00554939, 0.00348116, 0.00627306, 0.00470569, 0.00556795,\n",
       "       0.00603996, 0.00668125, 0.00318868, 0.00352048, 0.0032403 ,\n",
       "       0.00545494, 0.00450103, 0.0057374 , 0.00917614, 0.00706779,\n",
       "       0.0061449 , 0.00402371, 0.00754107, 0.00331309, 0.00335798,\n",
       "       0.00203401, 0.0038006 , 0.00243088, 0.0038393 , 0.00522704,\n",
       "       0.0042873 , 0.00318217, 0.0081104 , 0.00935738, 0.00586101,\n",
       "       0.00071517, 0.00313692, 0.00116934, 0.00259781, 0.00320326,\n",
       "       0.00689183, 0.00577801, 0.00420979, 0.00482192, 0.00264507,\n",
       "       0.00293858, 0.00480023, 0.0051581 , 0.00251123, 0.00836615,\n",
       "       0.00524157, 0.00579379, 0.00250437, 0.00310319, 0.00970536,\n",
       "       0.00528486, 0.00340248, 0.01348653, 0.00536361])"
      ]
     },
     "execution_count": 45,
     "metadata": {},
     "output_type": "execute_result"
    }
   ],
   "source": [
    "sfm.estimator_.feature_importances_"
   ]
  },
  {
   "cell_type": "code",
   "execution_count": 46,
   "id": "6ff1bc1c",
   "metadata": {},
   "outputs": [
    {
     "data": {
      "text/plain": [
       "Index(['0', '10', '17', '20', '21', '30', '33', '40', '41', '53', '59', '71',\n",
       "       '72', '75', '77', '79', '82', '86', '88', '93', '102', '103', '107',\n",
       "       '112', '117', '118', '119', '120', '129', '138', '146', '153', '156',\n",
       "       '163', '166', '167', '168', '169', '173', '180', '181', '183', '184',\n",
       "       '210', '211', '216', '221', '222', '223', '227', '239', '247', '248',\n",
       "       '254', '267', '269', '316', '345', '419', '433', '438', '439', '468',\n",
       "       '476', '500', '510', '511', '550', '551', '571', '573', '582', '587',\n",
       "       '589'],\n",
       "      dtype='object')"
      ]
     },
     "execution_count": 46,
     "metadata": {},
     "output_type": "execute_result"
    }
   ],
   "source": [
    "feature_selected_sfm = X_train.columns [sfm.get_support()]\n",
    "feature_selected_sfm"
   ]
  },
  {
   "cell_type": "code",
   "execution_count": 47,
   "id": "6a040096",
   "metadata": {},
   "outputs": [
    {
     "data": {
      "text/plain": [
       "(74,)"
      ]
     },
     "execution_count": 47,
     "metadata": {},
     "output_type": "execute_result"
    }
   ],
   "source": [
    "feature_selected_sfm.shape"
   ]
  },
  {
   "cell_type": "code",
   "execution_count": 48,
   "id": "ea9b0958",
   "metadata": {},
   "outputs": [
    {
     "data": {
      "text/html": [
       "<div>\n",
       "<style scoped>\n",
       "    .dataframe tbody tr th:only-of-type {\n",
       "        vertical-align: middle;\n",
       "    }\n",
       "\n",
       "    .dataframe tbody tr th {\n",
       "        vertical-align: top;\n",
       "    }\n",
       "\n",
       "    .dataframe thead th {\n",
       "        text-align: right;\n",
       "    }\n",
       "</style>\n",
       "<table border=\"1\" class=\"dataframe\">\n",
       "  <thead>\n",
       "    <tr style=\"text-align: right;\">\n",
       "      <th></th>\n",
       "      <th>0</th>\n",
       "      <th>10</th>\n",
       "      <th>17</th>\n",
       "      <th>20</th>\n",
       "      <th>21</th>\n",
       "      <th>30</th>\n",
       "      <th>33</th>\n",
       "      <th>40</th>\n",
       "      <th>41</th>\n",
       "      <th>53</th>\n",
       "      <th>...</th>\n",
       "      <th>500</th>\n",
       "      <th>510</th>\n",
       "      <th>511</th>\n",
       "      <th>550</th>\n",
       "      <th>551</th>\n",
       "      <th>571</th>\n",
       "      <th>573</th>\n",
       "      <th>582</th>\n",
       "      <th>587</th>\n",
       "      <th>589</th>\n",
       "    </tr>\n",
       "  </thead>\n",
       "  <tbody>\n",
       "    <tr>\n",
       "      <th>1250</th>\n",
       "      <td>3185.69</td>\n",
       "      <td>0.0038</td>\n",
       "      <td>0.9791</td>\n",
       "      <td>1.3985</td>\n",
       "      <td>-5248.75</td>\n",
       "      <td>0.1917</td>\n",
       "      <td>8.7556</td>\n",
       "      <td>8.532</td>\n",
       "      <td>4.194</td>\n",
       "      <td>4.657</td>\n",
       "      <td>...</td>\n",
       "      <td>0.0000</td>\n",
       "      <td>81.3239</td>\n",
       "      <td>356.7568</td>\n",
       "      <td>20.32</td>\n",
       "      <td>0.78</td>\n",
       "      <td>1.0744</td>\n",
       "      <td>0.1416</td>\n",
       "      <td>0.5055</td>\n",
       "      <td>0.0095</td>\n",
       "      <td>41.2178</td>\n",
       "    </tr>\n",
       "    <tr>\n",
       "      <th>244</th>\n",
       "      <td>3107.79</td>\n",
       "      <td>-0.0087</td>\n",
       "      <td>0.9545</td>\n",
       "      <td>1.4159</td>\n",
       "      <td>-6393.25</td>\n",
       "      <td>0.2079</td>\n",
       "      <td>8.5788</td>\n",
       "      <td>76.550</td>\n",
       "      <td>3.473</td>\n",
       "      <td>4.567</td>\n",
       "      <td>...</td>\n",
       "      <td>773.0887</td>\n",
       "      <td>46.7043</td>\n",
       "      <td>675.5556</td>\n",
       "      <td>14.47</td>\n",
       "      <td>0.63</td>\n",
       "      <td>1.7220</td>\n",
       "      <td>0.1799</td>\n",
       "      <td>0.4958</td>\n",
       "      <td>0.0271</td>\n",
       "      <td>176.0329</td>\n",
       "    </tr>\n",
       "    <tr>\n",
       "      <th>1287</th>\n",
       "      <td>3007.39</td>\n",
       "      <td>0.0062</td>\n",
       "      <td>0.9688</td>\n",
       "      <td>1.3937</td>\n",
       "      <td>-5454.00</td>\n",
       "      <td>0.2191</td>\n",
       "      <td>8.3383</td>\n",
       "      <td>78.380</td>\n",
       "      <td>3.409</td>\n",
       "      <td>4.604</td>\n",
       "      <td>...</td>\n",
       "      <td>0.0000</td>\n",
       "      <td>56.2500</td>\n",
       "      <td>0.0000</td>\n",
       "      <td>14.53</td>\n",
       "      <td>1.33</td>\n",
       "      <td>2.0841</td>\n",
       "      <td>0.2392</td>\n",
       "      <td>0.4979</td>\n",
       "      <td>0.0148</td>\n",
       "      <td>80.1759</td>\n",
       "    </tr>\n",
       "    <tr>\n",
       "      <th>514</th>\n",
       "      <td>2884.65</td>\n",
       "      <td>-0.0013</td>\n",
       "      <td>0.9725</td>\n",
       "      <td>1.4170</td>\n",
       "      <td>-5232.25</td>\n",
       "      <td>0.2033</td>\n",
       "      <td>8.6590</td>\n",
       "      <td>77.740</td>\n",
       "      <td>2.864</td>\n",
       "      <td>4.584</td>\n",
       "      <td>...</td>\n",
       "      <td>936.9369</td>\n",
       "      <td>57.9710</td>\n",
       "      <td>0.0000</td>\n",
       "      <td>15.49</td>\n",
       "      <td>1.88</td>\n",
       "      <td>2.0870</td>\n",
       "      <td>0.3270</td>\n",
       "      <td>0.4982</td>\n",
       "      <td>0.0217</td>\n",
       "      <td>77.7519</td>\n",
       "    </tr>\n",
       "    <tr>\n",
       "      <th>97</th>\n",
       "      <td>3049.31</td>\n",
       "      <td>0.0028</td>\n",
       "      <td>0.9712</td>\n",
       "      <td>1.3971</td>\n",
       "      <td>-5497.75</td>\n",
       "      <td>0.2416</td>\n",
       "      <td>8.7947</td>\n",
       "      <td>76.520</td>\n",
       "      <td>2.859</td>\n",
       "      <td>4.632</td>\n",
       "      <td>...</td>\n",
       "      <td>0.0000</td>\n",
       "      <td>116.5829</td>\n",
       "      <td>0.0000</td>\n",
       "      <td>13.86</td>\n",
       "      <td>1.01</td>\n",
       "      <td>2.3956</td>\n",
       "      <td>0.3566</td>\n",
       "      <td>0.4998</td>\n",
       "      <td>0.0184</td>\n",
       "      <td>192.2985</td>\n",
       "    </tr>\n",
       "    <tr>\n",
       "      <th>...</th>\n",
       "      <td>...</td>\n",
       "      <td>...</td>\n",
       "      <td>...</td>\n",
       "      <td>...</td>\n",
       "      <td>...</td>\n",
       "      <td>...</td>\n",
       "      <td>...</td>\n",
       "      <td>...</td>\n",
       "      <td>...</td>\n",
       "      <td>...</td>\n",
       "      <td>...</td>\n",
       "      <td>...</td>\n",
       "      <td>...</td>\n",
       "      <td>...</td>\n",
       "      <td>...</td>\n",
       "      <td>...</td>\n",
       "      <td>...</td>\n",
       "      <td>...</td>\n",
       "      <td>...</td>\n",
       "      <td>...</td>\n",
       "      <td>...</td>\n",
       "    </tr>\n",
       "    <tr>\n",
       "      <th>1114</th>\n",
       "      <td>2910.99</td>\n",
       "      <td>-0.0117</td>\n",
       "      <td>0.9754</td>\n",
       "      <td>1.4107</td>\n",
       "      <td>-5654.75</td>\n",
       "      <td>0.2036</td>\n",
       "      <td>8.9857</td>\n",
       "      <td>78.950</td>\n",
       "      <td>3.282</td>\n",
       "      <td>4.601</td>\n",
       "      <td>...</td>\n",
       "      <td>615.3846</td>\n",
       "      <td>41.3793</td>\n",
       "      <td>0.0000</td>\n",
       "      <td>26.59</td>\n",
       "      <td>1.54</td>\n",
       "      <td>1.9614</td>\n",
       "      <td>0.2936</td>\n",
       "      <td>0.4997</td>\n",
       "      <td>0.0236</td>\n",
       "      <td>139.6209</td>\n",
       "    </tr>\n",
       "    <tr>\n",
       "      <th>1234</th>\n",
       "      <td>3196.21</td>\n",
       "      <td>0.0049</td>\n",
       "      <td>0.9735</td>\n",
       "      <td>1.4240</td>\n",
       "      <td>-5521.00</td>\n",
       "      <td>0.1889</td>\n",
       "      <td>8.6620</td>\n",
       "      <td>81.320</td>\n",
       "      <td>2.743</td>\n",
       "      <td>4.572</td>\n",
       "      <td>...</td>\n",
       "      <td>0.0000</td>\n",
       "      <td>68.5714</td>\n",
       "      <td>0.0000</td>\n",
       "      <td>17.16</td>\n",
       "      <td>1.16</td>\n",
       "      <td>1.7909</td>\n",
       "      <td>1.0166</td>\n",
       "      <td>0.5058</td>\n",
       "      <td>0.0188</td>\n",
       "      <td>353.8319</td>\n",
       "    </tr>\n",
       "    <tr>\n",
       "      <th>731</th>\n",
       "      <td>3048.54</td>\n",
       "      <td>-0.0002</td>\n",
       "      <td>0.9796</td>\n",
       "      <td>1.4038</td>\n",
       "      <td>-5549.25</td>\n",
       "      <td>0.2013</td>\n",
       "      <td>8.5615</td>\n",
       "      <td>79.000</td>\n",
       "      <td>3.478</td>\n",
       "      <td>4.597</td>\n",
       "      <td>...</td>\n",
       "      <td>0.0000</td>\n",
       "      <td>53.0760</td>\n",
       "      <td>555.5556</td>\n",
       "      <td>22.35</td>\n",
       "      <td>1.60</td>\n",
       "      <td>2.0051</td>\n",
       "      <td>0.2754</td>\n",
       "      <td>0.5038</td>\n",
       "      <td>0.0084</td>\n",
       "      <td>25.1494</td>\n",
       "    </tr>\n",
       "    <tr>\n",
       "      <th>587</th>\n",
       "      <td>2984.30</td>\n",
       "      <td>0.0101</td>\n",
       "      <td>0.9768</td>\n",
       "      <td>1.4115</td>\n",
       "      <td>-6208.75</td>\n",
       "      <td>0.1786</td>\n",
       "      <td>8.5459</td>\n",
       "      <td>77.720</td>\n",
       "      <td>2.013</td>\n",
       "      <td>4.617</td>\n",
       "      <td>...</td>\n",
       "      <td>264.1366</td>\n",
       "      <td>49.0934</td>\n",
       "      <td>0.0000</td>\n",
       "      <td>19.70</td>\n",
       "      <td>0.76</td>\n",
       "      <td>2.0153</td>\n",
       "      <td>0.1975</td>\n",
       "      <td>0.4936</td>\n",
       "      <td>0.0167</td>\n",
       "      <td>86.9681</td>\n",
       "    </tr>\n",
       "    <tr>\n",
       "      <th>202</th>\n",
       "      <td>3031.39</td>\n",
       "      <td>0.0039</td>\n",
       "      <td>0.9583</td>\n",
       "      <td>1.3987</td>\n",
       "      <td>-6886.25</td>\n",
       "      <td>0.2174</td>\n",
       "      <td>9.2190</td>\n",
       "      <td>77.900</td>\n",
       "      <td>2.163</td>\n",
       "      <td>4.567</td>\n",
       "      <td>...</td>\n",
       "      <td>0.0000</td>\n",
       "      <td>37.5000</td>\n",
       "      <td>864.8649</td>\n",
       "      <td>23.33</td>\n",
       "      <td>1.53</td>\n",
       "      <td>1.7725</td>\n",
       "      <td>0.2502</td>\n",
       "      <td>0.4967</td>\n",
       "      <td>0.0094</td>\n",
       "      <td>76.4584</td>\n",
       "    </tr>\n",
       "  </tbody>\n",
       "</table>\n",
       "<p>1261 rows × 74 columns</p>\n",
       "</div>"
      ],
      "text/plain": [
       "            0      10      17      20       21      30      33      40     41  \\\n",
       "1250  3185.69  0.0038  0.9791  1.3985 -5248.75  0.1917  8.7556   8.532  4.194   \n",
       "244   3107.79 -0.0087  0.9545  1.4159 -6393.25  0.2079  8.5788  76.550  3.473   \n",
       "1287  3007.39  0.0062  0.9688  1.3937 -5454.00  0.2191  8.3383  78.380  3.409   \n",
       "514   2884.65 -0.0013  0.9725  1.4170 -5232.25  0.2033  8.6590  77.740  2.864   \n",
       "97    3049.31  0.0028  0.9712  1.3971 -5497.75  0.2416  8.7947  76.520  2.859   \n",
       "...       ...     ...     ...     ...      ...     ...     ...     ...    ...   \n",
       "1114  2910.99 -0.0117  0.9754  1.4107 -5654.75  0.2036  8.9857  78.950  3.282   \n",
       "1234  3196.21  0.0049  0.9735  1.4240 -5521.00  0.1889  8.6620  81.320  2.743   \n",
       "731   3048.54 -0.0002  0.9796  1.4038 -5549.25  0.2013  8.5615  79.000  3.478   \n",
       "587   2984.30  0.0101  0.9768  1.4115 -6208.75  0.1786  8.5459  77.720  2.013   \n",
       "202   3031.39  0.0039  0.9583  1.3987 -6886.25  0.2174  9.2190  77.900  2.163   \n",
       "\n",
       "         53  ...       500       510       511    550   551     571     573  \\\n",
       "1250  4.657  ...    0.0000   81.3239  356.7568  20.32  0.78  1.0744  0.1416   \n",
       "244   4.567  ...  773.0887   46.7043  675.5556  14.47  0.63  1.7220  0.1799   \n",
       "1287  4.604  ...    0.0000   56.2500    0.0000  14.53  1.33  2.0841  0.2392   \n",
       "514   4.584  ...  936.9369   57.9710    0.0000  15.49  1.88  2.0870  0.3270   \n",
       "97    4.632  ...    0.0000  116.5829    0.0000  13.86  1.01  2.3956  0.3566   \n",
       "...     ...  ...       ...       ...       ...    ...   ...     ...     ...   \n",
       "1114  4.601  ...  615.3846   41.3793    0.0000  26.59  1.54  1.9614  0.2936   \n",
       "1234  4.572  ...    0.0000   68.5714    0.0000  17.16  1.16  1.7909  1.0166   \n",
       "731   4.597  ...    0.0000   53.0760  555.5556  22.35  1.60  2.0051  0.2754   \n",
       "587   4.617  ...  264.1366   49.0934    0.0000  19.70  0.76  2.0153  0.1975   \n",
       "202   4.567  ...    0.0000   37.5000  864.8649  23.33  1.53  1.7725  0.2502   \n",
       "\n",
       "         582     587       589  \n",
       "1250  0.5055  0.0095   41.2178  \n",
       "244   0.4958  0.0271  176.0329  \n",
       "1287  0.4979  0.0148   80.1759  \n",
       "514   0.4982  0.0217   77.7519  \n",
       "97    0.4998  0.0184  192.2985  \n",
       "...      ...     ...       ...  \n",
       "1114  0.4997  0.0236  139.6209  \n",
       "1234  0.5058  0.0188  353.8319  \n",
       "731   0.5038  0.0084   25.1494  \n",
       "587   0.4936  0.0167   86.9681  \n",
       "202   0.4967  0.0094   76.4584  \n",
       "\n",
       "[1261 rows x 74 columns]"
      ]
     },
     "execution_count": 48,
     "metadata": {},
     "output_type": "execute_result"
    }
   ],
   "source": [
    "X_train_final = X_train [feature_selected_sfm]\n",
    "X_train_final"
   ]
  },
  {
   "cell_type": "code",
   "execution_count": 49,
   "id": "e2277712",
   "metadata": {},
   "outputs": [
    {
     "data": {
      "text/plain": [
       "(1261, 74)"
      ]
     },
     "execution_count": 49,
     "metadata": {},
     "output_type": "execute_result"
    }
   ],
   "source": [
    "X_train_final.shape"
   ]
  },
  {
   "cell_type": "code",
   "execution_count": 50,
   "id": "6e87a9d1",
   "metadata": {},
   "outputs": [
    {
     "data": {
      "text/html": [
       "<div>\n",
       "<style scoped>\n",
       "    .dataframe tbody tr th:only-of-type {\n",
       "        vertical-align: middle;\n",
       "    }\n",
       "\n",
       "    .dataframe tbody tr th {\n",
       "        vertical-align: top;\n",
       "    }\n",
       "\n",
       "    .dataframe thead th {\n",
       "        text-align: right;\n",
       "    }\n",
       "</style>\n",
       "<table border=\"1\" class=\"dataframe\">\n",
       "  <thead>\n",
       "    <tr style=\"text-align: right;\">\n",
       "      <th></th>\n",
       "      <th>0</th>\n",
       "      <th>10</th>\n",
       "      <th>17</th>\n",
       "      <th>20</th>\n",
       "      <th>21</th>\n",
       "      <th>30</th>\n",
       "      <th>33</th>\n",
       "      <th>40</th>\n",
       "      <th>41</th>\n",
       "      <th>53</th>\n",
       "      <th>...</th>\n",
       "      <th>500</th>\n",
       "      <th>510</th>\n",
       "      <th>511</th>\n",
       "      <th>550</th>\n",
       "      <th>551</th>\n",
       "      <th>571</th>\n",
       "      <th>573</th>\n",
       "      <th>582</th>\n",
       "      <th>587</th>\n",
       "      <th>589</th>\n",
       "    </tr>\n",
       "  </thead>\n",
       "  <tbody>\n",
       "    <tr>\n",
       "      <th>1154</th>\n",
       "      <td>3171.54</td>\n",
       "      <td>-0.0096</td>\n",
       "      <td>0.9548</td>\n",
       "      <td>1.4402</td>\n",
       "      <td>-6029.00</td>\n",
       "      <td>0.1427</td>\n",
       "      <td>8.3220</td>\n",
       "      <td>82.30</td>\n",
       "      <td>3.178</td>\n",
       "      <td>4.593</td>\n",
       "      <td>...</td>\n",
       "      <td>729.4118</td>\n",
       "      <td>31.7181</td>\n",
       "      <td>360.000</td>\n",
       "      <td>14.53</td>\n",
       "      <td>1.33</td>\n",
       "      <td>2.0270</td>\n",
       "      <td>0.2944</td>\n",
       "      <td>0.5041</td>\n",
       "      <td>0.0181</td>\n",
       "      <td>51.0695</td>\n",
       "    </tr>\n",
       "    <tr>\n",
       "      <th>900</th>\n",
       "      <td>3066.38</td>\n",
       "      <td>0.0112</td>\n",
       "      <td>0.9772</td>\n",
       "      <td>1.4041</td>\n",
       "      <td>-5497.50</td>\n",
       "      <td>0.1617</td>\n",
       "      <td>8.5571</td>\n",
       "      <td>78.29</td>\n",
       "      <td>2.791</td>\n",
       "      <td>4.619</td>\n",
       "      <td>...</td>\n",
       "      <td>0.0000</td>\n",
       "      <td>36.7521</td>\n",
       "      <td>0.000</td>\n",
       "      <td>16.23</td>\n",
       "      <td>0.87</td>\n",
       "      <td>2.6194</td>\n",
       "      <td>0.2265</td>\n",
       "      <td>0.4998</td>\n",
       "      <td>0.0054</td>\n",
       "      <td>24.6547</td>\n",
       "    </tr>\n",
       "    <tr>\n",
       "      <th>738</th>\n",
       "      <td>2957.59</td>\n",
       "      <td>-0.0028</td>\n",
       "      <td>0.9788</td>\n",
       "      <td>1.4186</td>\n",
       "      <td>-5797.00</td>\n",
       "      <td>0.0777</td>\n",
       "      <td>8.8889</td>\n",
       "      <td>80.31</td>\n",
       "      <td>3.395</td>\n",
       "      <td>4.563</td>\n",
       "      <td>...</td>\n",
       "      <td>508.1545</td>\n",
       "      <td>34.2688</td>\n",
       "      <td>759.322</td>\n",
       "      <td>16.49</td>\n",
       "      <td>1.18</td>\n",
       "      <td>2.3534</td>\n",
       "      <td>0.3606</td>\n",
       "      <td>0.4991</td>\n",
       "      <td>0.0162</td>\n",
       "      <td>59.9813</td>\n",
       "    </tr>\n",
       "    <tr>\n",
       "      <th>1572</th>\n",
       "      <td>2855.80</td>\n",
       "      <td>-0.0016</td>\n",
       "      <td>0.9740</td>\n",
       "      <td>1.4035</td>\n",
       "      <td>-5537.50</td>\n",
       "      <td>0.2304</td>\n",
       "      <td>9.1784</td>\n",
       "      <td>74.80</td>\n",
       "      <td>3.698</td>\n",
       "      <td>4.609</td>\n",
       "      <td>...</td>\n",
       "      <td>0.0000</td>\n",
       "      <td>39.2906</td>\n",
       "      <td>0.000</td>\n",
       "      <td>24.21</td>\n",
       "      <td>1.95</td>\n",
       "      <td>2.0713</td>\n",
       "      <td>0.3184</td>\n",
       "      <td>0.5011</td>\n",
       "      <td>0.0152</td>\n",
       "      <td>69.4220</td>\n",
       "    </tr>\n",
       "    <tr>\n",
       "      <th>1510</th>\n",
       "      <td>2966.20</td>\n",
       "      <td>-0.0068</td>\n",
       "      <td>0.9758</td>\n",
       "      <td>1.3829</td>\n",
       "      <td>-6427.50</td>\n",
       "      <td>0.1760</td>\n",
       "      <td>8.6384</td>\n",
       "      <td>78.33</td>\n",
       "      <td>1.912</td>\n",
       "      <td>4.626</td>\n",
       "      <td>...</td>\n",
       "      <td>0.0000</td>\n",
       "      <td>50.2564</td>\n",
       "      <td>0.000</td>\n",
       "      <td>21.08</td>\n",
       "      <td>0.73</td>\n",
       "      <td>2.3188</td>\n",
       "      <td>0.4262</td>\n",
       "      <td>0.4976</td>\n",
       "      <td>0.0117</td>\n",
       "      <td>33.4695</td>\n",
       "    </tr>\n",
       "    <tr>\n",
       "      <th>...</th>\n",
       "      <td>...</td>\n",
       "      <td>...</td>\n",
       "      <td>...</td>\n",
       "      <td>...</td>\n",
       "      <td>...</td>\n",
       "      <td>...</td>\n",
       "      <td>...</td>\n",
       "      <td>...</td>\n",
       "      <td>...</td>\n",
       "      <td>...</td>\n",
       "      <td>...</td>\n",
       "      <td>...</td>\n",
       "      <td>...</td>\n",
       "      <td>...</td>\n",
       "      <td>...</td>\n",
       "      <td>...</td>\n",
       "      <td>...</td>\n",
       "      <td>...</td>\n",
       "      <td>...</td>\n",
       "      <td>...</td>\n",
       "      <td>...</td>\n",
       "    </tr>\n",
       "    <tr>\n",
       "      <th>280</th>\n",
       "      <td>2935.73</td>\n",
       "      <td>0.0068</td>\n",
       "      <td>0.9601</td>\n",
       "      <td>1.4105</td>\n",
       "      <td>-5421.50</td>\n",
       "      <td>0.2596</td>\n",
       "      <td>9.2655</td>\n",
       "      <td>11.52</td>\n",
       "      <td>3.923</td>\n",
       "      <td>4.655</td>\n",
       "      <td>...</td>\n",
       "      <td>0.0000</td>\n",
       "      <td>35.3780</td>\n",
       "      <td>0.000</td>\n",
       "      <td>16.96</td>\n",
       "      <td>0.57</td>\n",
       "      <td>1.7577</td>\n",
       "      <td>0.1517</td>\n",
       "      <td>0.5019</td>\n",
       "      <td>0.0169</td>\n",
       "      <td>139.8330</td>\n",
       "    </tr>\n",
       "    <tr>\n",
       "      <th>968</th>\n",
       "      <td>2941.85</td>\n",
       "      <td>-0.0112</td>\n",
       "      <td>0.9604</td>\n",
       "      <td>1.4112</td>\n",
       "      <td>-5300.25</td>\n",
       "      <td>0.1987</td>\n",
       "      <td>8.8078</td>\n",
       "      <td>0.00</td>\n",
       "      <td>0.000</td>\n",
       "      <td>4.569</td>\n",
       "      <td>...</td>\n",
       "      <td>913.2075</td>\n",
       "      <td>32.8205</td>\n",
       "      <td>0.000</td>\n",
       "      <td>15.11</td>\n",
       "      <td>1.02</td>\n",
       "      <td>2.4103</td>\n",
       "      <td>0.4025</td>\n",
       "      <td>0.5024</td>\n",
       "      <td>0.0088</td>\n",
       "      <td>40.4322</td>\n",
       "    </tr>\n",
       "    <tr>\n",
       "      <th>1128</th>\n",
       "      <td>3041.09</td>\n",
       "      <td>-0.0095</td>\n",
       "      <td>0.9756</td>\n",
       "      <td>1.4067</td>\n",
       "      <td>-5399.25</td>\n",
       "      <td>0.1763</td>\n",
       "      <td>8.9420</td>\n",
       "      <td>79.90</td>\n",
       "      <td>3.233</td>\n",
       "      <td>4.588</td>\n",
       "      <td>...</td>\n",
       "      <td>901.2407</td>\n",
       "      <td>25.2492</td>\n",
       "      <td>0.000</td>\n",
       "      <td>15.57</td>\n",
       "      <td>1.78</td>\n",
       "      <td>2.0135</td>\n",
       "      <td>0.3006</td>\n",
       "      <td>0.5023</td>\n",
       "      <td>0.0117</td>\n",
       "      <td>45.3908</td>\n",
       "    </tr>\n",
       "    <tr>\n",
       "      <th>0</th>\n",
       "      <td>2973.86</td>\n",
       "      <td>-0.0003</td>\n",
       "      <td>0.9720</td>\n",
       "      <td>1.3993</td>\n",
       "      <td>-6362.50</td>\n",
       "      <td>0.2229</td>\n",
       "      <td>8.6667</td>\n",
       "      <td>14.55</td>\n",
       "      <td>4.866</td>\n",
       "      <td>4.544</td>\n",
       "      <td>...</td>\n",
       "      <td>0.0000</td>\n",
       "      <td>68.7631</td>\n",
       "      <td>0.000</td>\n",
       "      <td>21.84</td>\n",
       "      <td>1.53</td>\n",
       "      <td>2.2935</td>\n",
       "      <td>0.1188</td>\n",
       "      <td>0.5025</td>\n",
       "      <td>0.0117</td>\n",
       "      <td>58.5665</td>\n",
       "    </tr>\n",
       "    <tr>\n",
       "      <th>730</th>\n",
       "      <td>3136.34</td>\n",
       "      <td>-0.0006</td>\n",
       "      <td>0.9748</td>\n",
       "      <td>1.4282</td>\n",
       "      <td>-6492.25</td>\n",
       "      <td>0.1759</td>\n",
       "      <td>8.7073</td>\n",
       "      <td>77.76</td>\n",
       "      <td>2.475</td>\n",
       "      <td>4.588</td>\n",
       "      <td>...</td>\n",
       "      <td>0.0000</td>\n",
       "      <td>28.6674</td>\n",
       "      <td>0.000</td>\n",
       "      <td>0.00</td>\n",
       "      <td>0.00</td>\n",
       "      <td>2.2407</td>\n",
       "      <td>0.2972</td>\n",
       "      <td>0.5022</td>\n",
       "      <td>0.0084</td>\n",
       "      <td>25.1494</td>\n",
       "    </tr>\n",
       "  </tbody>\n",
       "</table>\n",
       "<p>316 rows × 74 columns</p>\n",
       "</div>"
      ],
      "text/plain": [
       "            0      10      17      20       21      30      33     40     41  \\\n",
       "1154  3171.54 -0.0096  0.9548  1.4402 -6029.00  0.1427  8.3220  82.30  3.178   \n",
       "900   3066.38  0.0112  0.9772  1.4041 -5497.50  0.1617  8.5571  78.29  2.791   \n",
       "738   2957.59 -0.0028  0.9788  1.4186 -5797.00  0.0777  8.8889  80.31  3.395   \n",
       "1572  2855.80 -0.0016  0.9740  1.4035 -5537.50  0.2304  9.1784  74.80  3.698   \n",
       "1510  2966.20 -0.0068  0.9758  1.3829 -6427.50  0.1760  8.6384  78.33  1.912   \n",
       "...       ...     ...     ...     ...      ...     ...     ...    ...    ...   \n",
       "280   2935.73  0.0068  0.9601  1.4105 -5421.50  0.2596  9.2655  11.52  3.923   \n",
       "968   2941.85 -0.0112  0.9604  1.4112 -5300.25  0.1987  8.8078   0.00  0.000   \n",
       "1128  3041.09 -0.0095  0.9756  1.4067 -5399.25  0.1763  8.9420  79.90  3.233   \n",
       "0     2973.86 -0.0003  0.9720  1.3993 -6362.50  0.2229  8.6667  14.55  4.866   \n",
       "730   3136.34 -0.0006  0.9748  1.4282 -6492.25  0.1759  8.7073  77.76  2.475   \n",
       "\n",
       "         53  ...       500      510      511    550   551     571     573  \\\n",
       "1154  4.593  ...  729.4118  31.7181  360.000  14.53  1.33  2.0270  0.2944   \n",
       "900   4.619  ...    0.0000  36.7521    0.000  16.23  0.87  2.6194  0.2265   \n",
       "738   4.563  ...  508.1545  34.2688  759.322  16.49  1.18  2.3534  0.3606   \n",
       "1572  4.609  ...    0.0000  39.2906    0.000  24.21  1.95  2.0713  0.3184   \n",
       "1510  4.626  ...    0.0000  50.2564    0.000  21.08  0.73  2.3188  0.4262   \n",
       "...     ...  ...       ...      ...      ...    ...   ...     ...     ...   \n",
       "280   4.655  ...    0.0000  35.3780    0.000  16.96  0.57  1.7577  0.1517   \n",
       "968   4.569  ...  913.2075  32.8205    0.000  15.11  1.02  2.4103  0.4025   \n",
       "1128  4.588  ...  901.2407  25.2492    0.000  15.57  1.78  2.0135  0.3006   \n",
       "0     4.544  ...    0.0000  68.7631    0.000  21.84  1.53  2.2935  0.1188   \n",
       "730   4.588  ...    0.0000  28.6674    0.000   0.00  0.00  2.2407  0.2972   \n",
       "\n",
       "         582     587       589  \n",
       "1154  0.5041  0.0181   51.0695  \n",
       "900   0.4998  0.0054   24.6547  \n",
       "738   0.4991  0.0162   59.9813  \n",
       "1572  0.5011  0.0152   69.4220  \n",
       "1510  0.4976  0.0117   33.4695  \n",
       "...      ...     ...       ...  \n",
       "280   0.5019  0.0169  139.8330  \n",
       "968   0.5024  0.0088   40.4322  \n",
       "1128  0.5023  0.0117   45.3908  \n",
       "0     0.5025  0.0117   58.5665  \n",
       "730   0.5022  0.0084   25.1494  \n",
       "\n",
       "[316 rows x 74 columns]"
      ]
     },
     "execution_count": 50,
     "metadata": {},
     "output_type": "execute_result"
    }
   ],
   "source": [
    "X_test_final = X_test [feature_selected_sfm]\n",
    "X_test_final"
   ]
  },
  {
   "cell_type": "code",
   "execution_count": 51,
   "id": "cda25025",
   "metadata": {},
   "outputs": [
    {
     "data": {
      "text/plain": [
       "(316, 74)"
      ]
     },
     "execution_count": 51,
     "metadata": {},
     "output_type": "execute_result"
    }
   ],
   "source": [
    "X_test_final.shape"
   ]
  },
  {
   "cell_type": "code",
   "execution_count": 52,
   "id": "8dff742f",
   "metadata": {},
   "outputs": [
    {
     "data": {
      "text/plain": [
       "(1261,)"
      ]
     },
     "execution_count": 52,
     "metadata": {},
     "output_type": "execute_result"
    }
   ],
   "source": [
    "y_train.shape"
   ]
  },
  {
   "cell_type": "code",
   "execution_count": 53,
   "id": "b0f4aded",
   "metadata": {},
   "outputs": [
    {
     "data": {
      "text/plain": [
       "(316,)"
      ]
     },
     "execution_count": 53,
     "metadata": {},
     "output_type": "execute_result"
    }
   ],
   "source": [
    "y_test.shape"
   ]
  },
  {
   "cell_type": "code",
   "execution_count": 54,
   "id": "310eaafe",
   "metadata": {},
   "outputs": [
    {
     "data": {
      "text/plain": [
       "0    1177\n",
       "1      84\n",
       "Name: Pass/Fail, dtype: int64"
      ]
     },
     "execution_count": 54,
     "metadata": {},
     "output_type": "execute_result"
    }
   ],
   "source": [
    "y_train.value_counts()"
   ]
  },
  {
   "cell_type": "code",
   "execution_count": 55,
   "id": "bfdc0fc1",
   "metadata": {
    "scrolled": true
   },
   "outputs": [
    {
     "data": {
      "text/plain": [
       "0    295\n",
       "1     21\n",
       "Name: Pass/Fail, dtype: int64"
      ]
     },
     "execution_count": 55,
     "metadata": {},
     "output_type": "execute_result"
    }
   ],
   "source": [
    "y_test.value_counts()"
   ]
  },
  {
   "cell_type": "code",
   "execution_count": 80,
   "id": "bd8758e2",
   "metadata": {},
   "outputs": [],
   "source": [
    "from imblearn.over_sampling import SMOTE\n",
    "sm = SMOTE()\n",
    "X_train_final_smote, y_train_smote = sm.fit_resample (X_train_final, y_train)"
   ]
  },
  {
   "cell_type": "code",
   "execution_count": 81,
   "id": "9af9e09a",
   "metadata": {},
   "outputs": [],
   "source": [
    "sm1 = SMOTE()\n",
    "X_test_final_smote, y_test_smote = sm1.fit_resample (X_test_final, y_test)"
   ]
  },
  {
   "cell_type": "code",
   "execution_count": 56,
   "id": "02c2f5ad",
   "metadata": {},
   "outputs": [],
   "source": [
    "# Build a model with :\n",
    "# Accuracy > 80 %\n",
    "# Precision > 50 %\n",
    "# Recall > 50 %"
   ]
  },
  {
   "cell_type": "markdown",
   "id": "edf5f37d",
   "metadata": {},
   "source": [
    "#### Logistic Regression :"
   ]
  },
  {
   "cell_type": "code",
   "execution_count": 83,
   "id": "b3f34ee8",
   "metadata": {},
   "outputs": [
    {
     "data": {
      "text/plain": [
       "LogisticRegression(random_state=42)"
      ]
     },
     "execution_count": 83,
     "metadata": {},
     "output_type": "execute_result"
    }
   ],
   "source": [
    "from sklearn.linear_model import LogisticRegression\n",
    "lr = LogisticRegression (random_state = 42)\n",
    "lr.fit (X_train_final_smote, y_train_smote)"
   ]
  },
  {
   "cell_type": "code",
   "execution_count": 84,
   "id": "113c1bdc",
   "metadata": {},
   "outputs": [
    {
     "data": {
      "text/plain": [
       "array([1, 0, 1, 0, 0, 0, 0, 1, 0, 0, 0, 0, 1, 1, 0, 1, 0, 0, 0, 0, 0, 0,\n",
       "       0, 0, 0, 0, 0, 0, 0, 0, 1, 1, 0, 0, 0, 0, 1, 1, 0, 0, 0, 0, 0, 1,\n",
       "       0, 1, 0, 0, 0, 1, 1, 0, 0, 1, 1, 0, 1, 1, 0, 1, 1, 0, 0, 0, 0, 0,\n",
       "       0, 0, 1, 0, 1, 0, 0, 0, 0, 1, 0, 0, 1, 0, 0, 0, 0, 1, 0, 0, 1, 1,\n",
       "       0, 0, 0, 0, 1, 0, 0, 0, 1, 1, 0, 0, 1, 0, 1, 1, 1, 0, 1, 0, 0, 1,\n",
       "       0, 0, 0, 0, 0, 0, 0, 0, 1, 1, 0, 0, 0, 0, 0, 1, 0, 0, 0, 0, 0, 0,\n",
       "       0, 1, 1, 0, 1, 0, 0, 1, 0, 1, 1, 0, 0, 1, 1, 1, 0, 1, 0, 1, 1, 0,\n",
       "       0, 0, 1, 0, 1, 0, 0, 1, 0, 0, 1, 0, 0, 1, 0, 0, 1, 1, 1, 1, 0, 0,\n",
       "       0, 0, 0, 0, 1, 1, 0, 0, 0, 1, 0, 0, 0, 1, 0, 0, 0, 0, 0, 1, 0, 1,\n",
       "       1, 0, 1, 0, 0, 0, 0, 0, 0, 0, 0, 1, 0, 0, 1, 0, 1, 1, 1, 0, 0, 0,\n",
       "       1, 0, 1, 0, 0, 1, 1, 1, 1, 0, 0, 1, 1, 0, 0, 1, 1, 0, 0, 1, 0, 1,\n",
       "       0, 1, 1, 1, 1, 0, 0, 0, 0, 0, 0, 0, 0, 0, 0, 0, 0, 1, 0, 1, 0, 0,\n",
       "       0, 0, 0, 0, 0, 0, 0, 0, 1, 0, 0, 1, 0, 0, 0, 0, 0, 0, 0, 1, 0, 0,\n",
       "       0, 0, 1, 0, 0, 1, 0, 0, 0, 1, 1, 0, 0, 1, 0, 0, 1, 1, 1, 1, 1, 0,\n",
       "       0, 0, 0, 0, 1, 0, 0, 0, 1, 0, 1, 0, 1, 0, 0, 0, 0, 0, 1, 1, 0, 0,\n",
       "       0, 0, 1, 0, 1, 1, 1, 1, 0, 1, 1, 0, 0, 0, 0, 0, 1, 0, 0, 0, 1, 1,\n",
       "       0, 1, 0, 1, 1, 1, 1, 0, 0, 1, 0, 0, 0, 0, 0, 0, 0, 0, 0, 0, 1, 0,\n",
       "       1, 1, 1, 0, 0, 0, 0, 0, 0, 0, 0, 0, 0, 0, 0, 0, 1, 1, 0, 1, 0, 0,\n",
       "       0, 1, 1, 1, 0, 0, 0, 0, 0, 1, 0, 0, 0, 1, 0, 0, 0, 1, 1, 0, 1, 1,\n",
       "       0, 0, 0, 0, 0, 0, 1, 1, 1, 0, 0, 0, 1, 0, 1, 1, 1, 0, 0, 0, 0, 0,\n",
       "       0, 1, 0, 0, 0, 0, 0, 0, 0, 1, 1, 0, 1, 0, 0, 0, 0, 0, 0, 0, 0, 0,\n",
       "       0, 0, 0, 1, 0, 1, 0, 0, 0, 0, 0, 1, 0, 0, 0, 1, 1, 0, 1, 1, 0, 1,\n",
       "       0, 0, 0, 0, 1, 0, 1, 0, 1, 1, 1, 0, 1, 0, 0, 0, 1, 1, 1, 0, 0, 1,\n",
       "       0, 0, 0, 1, 1, 1, 0, 0, 1, 0, 0, 1, 1, 1, 1, 1, 1, 0, 0, 1, 1, 1,\n",
       "       0, 0, 1, 1, 1, 0, 1, 1, 1, 1, 1, 0, 0, 1, 1, 1, 1, 0, 0, 0, 0, 1,\n",
       "       0, 0, 1, 1, 1, 0, 1, 0, 0, 0, 0, 1, 1, 1, 0, 0, 1, 1, 0, 1, 1, 1,\n",
       "       0, 1, 0, 1, 1, 0, 0, 0, 0, 0, 0, 0, 1, 0, 0, 1, 0, 1], dtype=int64)"
      ]
     },
     "execution_count": 84,
     "metadata": {},
     "output_type": "execute_result"
    }
   ],
   "source": [
    "y_pred = lr.predict (X_test_final_smote)\n",
    "y_pred"
   ]
  },
  {
   "cell_type": "code",
   "execution_count": 85,
   "id": "dfda3cbb",
   "metadata": {},
   "outputs": [
    {
     "data": {
      "text/plain": [
       "0      0\n",
       "1      0\n",
       "2      0\n",
       "3      0\n",
       "4      0\n",
       "      ..\n",
       "585    1\n",
       "586    1\n",
       "587    1\n",
       "588    1\n",
       "589    1\n",
       "Name: Pass/Fail, Length: 590, dtype: int64"
      ]
     },
     "execution_count": 85,
     "metadata": {},
     "output_type": "execute_result"
    }
   ],
   "source": [
    "y_test_smote"
   ]
  },
  {
   "cell_type": "code",
   "execution_count": 86,
   "id": "278387cc",
   "metadata": {},
   "outputs": [
    {
     "data": {
      "text/plain": [
       "array([[198,  97],\n",
       "       [177, 118]], dtype=int64)"
      ]
     },
     "execution_count": 86,
     "metadata": {},
     "output_type": "execute_result"
    }
   ],
   "source": [
    "# Confusion Matrix :\n",
    "\n",
    "from sklearn.metrics import confusion_matrix\n",
    "conf_matrix = confusion_matrix (y_test_smote, y_pred)\n",
    "conf_matrix\n"
   ]
  },
  {
   "cell_type": "code",
   "execution_count": 87,
   "id": "34baedbf",
   "metadata": {},
   "outputs": [
    {
     "data": {
      "text/plain": [
       "<AxesSubplot:>"
      ]
     },
     "execution_count": 87,
     "metadata": {},
     "output_type": "execute_result"
    },
    {
     "data": {
      "image/png": "[encoded data removed]",
      "text/plain": [
       "<Figure size 432x288 with 2 Axes>"
      ]
     },
     "metadata": {
      "needs_background": "light"
     },
     "output_type": "display_data"
    }
   ],
   "source": [
    "sns.heatmap (conf_matrix, annot = True, fmt = 'd')"
   ]
  },
  {
   "cell_type": "code",
   "execution_count": 88,
   "id": "12724f66",
   "metadata": {},
   "outputs": [],
   "source": [
    "from sklearn import metrics"
   ]
  },
  {
   "cell_type": "code",
   "execution_count": 90,
   "id": "fcb05b18",
   "metadata": {},
   "outputs": [
    {
     "name": "stdout",
     "output_type": "stream",
     "text": [
      "Accuracy :  0.535593220338983\n"
     ]
    }
   ],
   "source": [
    "print ('Accuracy : ', metrics.accuracy_score (y_test_smote, y_pred))"
   ]
  },
  {
   "cell_type": "code",
   "execution_count": 91,
   "id": "e44e7499",
   "metadata": {},
   "outputs": [
    {
     "name": "stdout",
     "output_type": "stream",
     "text": [
      "Precision :  0.5488372093023256\n"
     ]
    }
   ],
   "source": [
    "print ('Precision : ', metrics.precision_score (y_test_smote, y_pred))"
   ]
  },
  {
   "cell_type": "code",
   "execution_count": 92,
   "id": "16b436a1",
   "metadata": {},
   "outputs": [
    {
     "name": "stdout",
     "output_type": "stream",
     "text": [
      "Recall :  0.4\n"
     ]
    }
   ],
   "source": [
    "print ('Recall : ', metrics.recall_score (y_test_smote, y_pred))"
   ]
  },
  {
   "cell_type": "code",
   "execution_count": 142,
   "id": "aca9f0b7",
   "metadata": {},
   "outputs": [
    {
     "name": "stdout",
     "output_type": "stream",
     "text": [
      "              precision    recall  f1-score   support\n",
      "\n",
      "           0       0.53      0.67      0.59       295\n",
      "           1       0.55      0.40      0.46       295\n",
      "\n",
      "    accuracy                           0.54       590\n",
      "   macro avg       0.54      0.54      0.53       590\n",
      "weighted avg       0.54      0.54      0.53       590\n",
      "\n"
     ]
    }
   ],
   "source": [
    "print (classification_report (y_test_smote, y_pred))"
   ]
  },
  {
   "cell_type": "markdown",
   "id": "9e7700ff",
   "metadata": {},
   "source": [
    "#### Decision Tree Classifier :"
   ]
  },
  {
   "cell_type": "code",
   "execution_count": 67,
   "id": "63dda106",
   "metadata": {},
   "outputs": [],
   "source": [
    "# Decision Tree Classifier :\n",
    "\n",
    "from sklearn.tree import DecisionTreeClassifier\n",
    "dtc = DecisionTreeClassifier (criterion = 'gini', random_state = 4)\n"
   ]
  },
  {
   "cell_type": "code",
   "execution_count": 93,
   "id": "b0941b66",
   "metadata": {},
   "outputs": [
    {
     "data": {
      "text/plain": [
       "GridSearchCV(cv=10,\n",
       "             estimator=DecisionTreeClassifier(max_depth=3,\n",
       "                                              min_samples_split=150,\n",
       "                                              random_state=4),\n",
       "             n_jobs=-1,\n",
       "             param_grid={'max_depth': [3, 5, 6, 7],\n",
       "                         'min_samples_split': [50, 100, 150, 200, 250]})"
      ]
     },
     "execution_count": 93,
     "metadata": {},
     "output_type": "execute_result"
    }
   ],
   "source": [
    "from sklearn.model_selection import GridSearchCV\n",
    "param_dist = {'max_depth' : [3, 5, 6, 7], 'min_samples_split' : [50, 100, 150, 200, 250]}\n",
    "gscv_dtc = GridSearchCV (dtc, cv = 10, param_grid = param_dist, n_jobs = -1)\n",
    "gscv_dtc.fit (X_train_final_smote, y_train_smote)"
   ]
  },
  {
   "cell_type": "code",
   "execution_count": 94,
   "id": "1fe3052c",
   "metadata": {},
   "outputs": [
    {
     "data": {
      "text/plain": [
       "{'max_depth': 7, 'min_samples_split': 50}"
      ]
     },
     "execution_count": 94,
     "metadata": {},
     "output_type": "execute_result"
    }
   ],
   "source": [
    "gscv_dtc.best_params_"
   ]
  },
  {
   "cell_type": "code",
   "execution_count": 95,
   "id": "49c93b3a",
   "metadata": {},
   "outputs": [
    {
     "data": {
      "text/plain": [
       "DecisionTreeClassifier(max_depth=7, min_samples_split=50, random_state=4)"
      ]
     },
     "execution_count": 95,
     "metadata": {},
     "output_type": "execute_result"
    }
   ],
   "source": [
    "dtc = DecisionTreeClassifier (criterion = 'gini', random_state = 4, max_depth = 7, min_samples_split = 50)\n",
    "dtc.fit (X_train_final_smote, y_train_smote)"
   ]
  },
  {
   "cell_type": "code",
   "execution_count": 96,
   "id": "aa9fbf45",
   "metadata": {},
   "outputs": [],
   "source": [
    "y_pred_dtc = dtc.predict (X_test_final_smote)"
   ]
  },
  {
   "cell_type": "code",
   "execution_count": 98,
   "id": "25933d84",
   "metadata": {},
   "outputs": [
    {
     "data": {
      "text/plain": [
       "array([[244,  51],\n",
       "       [110, 185]], dtype=int64)"
      ]
     },
     "execution_count": 98,
     "metadata": {},
     "output_type": "execute_result"
    }
   ],
   "source": [
    "dtc_conf_matrix = confusion_matrix (y_test_smote, y_pred_dtc)\n",
    "dtc_conf_matrix"
   ]
  },
  {
   "cell_type": "code",
   "execution_count": 99,
   "id": "55b312b8",
   "metadata": {},
   "outputs": [
    {
     "data": {
      "text/plain": [
       "<AxesSubplot:>"
      ]
     },
     "execution_count": 99,
     "metadata": {},
     "output_type": "execute_result"
    },
    {
     "data": {
      "image/png": "[encoded data removed]",
      "text/plain": [
       "<Figure size 432x288 with 2 Axes>"
      ]
     },
     "metadata": {
      "needs_background": "light"
     },
     "output_type": "display_data"
    }
   ],
   "source": [
    "sns.heatmap (dtc_conf_matrix, annot = True, fmt = 'd')"
   ]
  },
  {
   "cell_type": "code",
   "execution_count": 100,
   "id": "b4734c8d",
   "metadata": {},
   "outputs": [
    {
     "name": "stdout",
     "output_type": "stream",
     "text": [
      "Decision Tree Metrics\n",
      "Accuracy :  0.7271186440677966\n",
      "Precision :  0.7838983050847458\n",
      "Recall :  0.6271186440677966\n",
      "f1_score :  0.696798493408663\n"
     ]
    }
   ],
   "source": [
    "print ('Decision Tree Metrics')\n",
    "print ('Accuracy : ', metrics.accuracy_score (y_test_smote, y_pred_dtc))\n",
    "print ('Precision : ', metrics.precision_score (y_test_smote, y_pred_dtc))\n",
    "print ('Recall : ', metrics.recall_score (y_test_smote, y_pred_dtc))\n",
    "print ('f1_score : ', metrics.f1_score (y_test_smote, y_pred_dtc))"
   ]
  },
  {
   "cell_type": "code",
   "execution_count": 140,
   "id": "54201bb3",
   "metadata": {},
   "outputs": [
    {
     "name": "stdout",
     "output_type": "stream",
     "text": [
      "              precision    recall  f1-score   support\n",
      "\n",
      "           0       0.69      0.83      0.75       295\n",
      "           1       0.78      0.63      0.70       295\n",
      "\n",
      "    accuracy                           0.73       590\n",
      "   macro avg       0.74      0.73      0.72       590\n",
      "weighted avg       0.74      0.73      0.72       590\n",
      "\n"
     ]
    }
   ],
   "source": [
    "print (classification_report (y_test_smote, y_pred_dtc))"
   ]
  },
  {
   "cell_type": "markdown",
   "id": "edd2c7d6",
   "metadata": {},
   "source": [
    "#### K Nearest Neighbors ( KNN ) :"
   ]
  },
  {
   "cell_type": "code",
   "execution_count": 136,
   "id": "002ed1f4",
   "metadata": {},
   "outputs": [],
   "source": [
    "from sklearn.neighbors import KNeighborsClassifier\n",
    "knn = KNeighborsClassifier (n_neighbors = 1)\n",
    "knn.fit (X_train_final_smote, y_train_smote)\n",
    "pred = knn.predict (X_test_final_smote)"
   ]
  },
  {
   "cell_type": "code",
   "execution_count": 137,
   "id": "217cd41d",
   "metadata": {},
   "outputs": [
    {
     "data": {
      "text/plain": [
       "array([[254,  41],\n",
       "       [233,  62]], dtype=int64)"
      ]
     },
     "execution_count": 137,
     "metadata": {},
     "output_type": "execute_result"
    }
   ],
   "source": [
    "conf_matrix_knn = confusion_matrix (y_test_smote, pred)\n",
    "conf_matrix_knn"
   ]
  },
  {
   "cell_type": "code",
   "execution_count": 138,
   "id": "39abec4a",
   "metadata": {},
   "outputs": [
    {
     "data": {
      "text/plain": [
       "<AxesSubplot:>"
      ]
     },
     "execution_count": 138,
     "metadata": {},
     "output_type": "execute_result"
    },
    {
     "data": {
      "image/png": "[encoded data removed]",
      "text/plain": [
       "<Figure size 432x288 with 2 Axes>"
      ]
     },
     "metadata": {
      "needs_background": "light"
     },
     "output_type": "display_data"
    }
   ],
   "source": [
    "sns.heatmap (conf_matrix_knn, annot = True, fmt = 'd')"
   ]
  },
  {
   "cell_type": "code",
   "execution_count": 139,
   "id": "78a607d2",
   "metadata": {},
   "outputs": [
    {
     "name": "stdout",
     "output_type": "stream",
     "text": [
      "KNN Metrics\n",
      "\n",
      "Accuracy :  0.535593220338983\n",
      "Precision :  0.6019417475728155\n",
      "Recall :  0.21016949152542372\n",
      "f1_score :  0.3115577889447236\n"
     ]
    }
   ],
   "source": [
    "print ('KNN Metrics')\n",
    "print()\n",
    "print ('Accuracy : ', metrics.accuracy_score (y_test_smote, pred))\n",
    "print ('Precision : ', metrics.precision_score (y_test_smote, pred))\n",
    "print ('Recall : ', metrics.recall_score (y_test_smote, pred))\n",
    "print ('f1_score : ', metrics.f1_score (y_test_smote, pred))"
   ]
  },
  {
   "cell_type": "code",
   "execution_count": 141,
   "id": "d5f1543b",
   "metadata": {},
   "outputs": [
    {
     "name": "stdout",
     "output_type": "stream",
     "text": [
      "              precision    recall  f1-score   support\n",
      "\n",
      "           0       0.52      0.86      0.65       295\n",
      "           1       0.60      0.21      0.31       295\n",
      "\n",
      "    accuracy                           0.54       590\n",
      "   macro avg       0.56      0.54      0.48       590\n",
      "weighted avg       0.56      0.54      0.48       590\n",
      "\n"
     ]
    }
   ],
   "source": [
    "print (classification_report (y_test_smote, pred))"
   ]
  },
  {
   "cell_type": "code",
   "execution_count": null,
   "id": "b7177687",
   "metadata": {},
   "outputs": [],
   "source": []
  }
 ],
 "metadata": {
  "kernelspec": {
   "display_name": "Python 3 (ipykernel)",
   "language": "python",
   "name": "python3"
  },
  "language_info": {
   "codemirror_mode": {
    "name": "ipython",
    "version": 3
   },
   "file_extension": ".py",
   "mimetype": "text/x-python",
   "name": "python",
   "nbconvert_exporter": "python",
   "pygments_lexer": "ipython3",
   "version": "3.9.12"
  }
 },
 "nbformat": 4,
 "nbformat_minor": 5
}
